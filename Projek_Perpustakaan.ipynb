{
 "cells": [
  {
   "cell_type": "markdown",
   "id": "805bdd78",
   "metadata": {},
   "source": [
    "# Perpustakaan 1"
   ]
  },
  {
   "cell_type": "code",
   "execution_count": 1,
   "id": "782763e7",
   "metadata": {},
   "outputs": [],
   "source": [
    "# Inisialisasi\n",
    "Nama_buku_1='Fisika'\n",
    "Nama_buku_2='Kimia'\n",
    "Nama_buku_3='Biologi'\n",
    "durasi=3 #durasi peminjaman selama 3 hari"
   ]
  },
  {
   "cell_type": "code",
   "execution_count": 2,
   "id": "ec711254",
   "metadata": {},
   "outputs": [
    {
     "data": {
      "text/plain": [
       "(str, str, str, int)"
      ]
     },
     "execution_count": 2,
     "metadata": {},
     "output_type": "execute_result"
    }
   ],
   "source": [
    "type(Nama_buku_1),type(Nama_buku_2),type(Nama_buku_3),type(durasi)"
   ]
  },
  {
   "cell_type": "code",
   "execution_count": 3,
   "id": "b36bf09e",
   "metadata": {},
   "outputs": [],
   "source": [
    "kode_buku_1='ps_001'\n",
    "kode_buku_2='ps_002'\n",
    "kode_buku_3='ps_003'"
   ]
  },
  {
   "cell_type": "code",
   "execution_count": 4,
   "id": "45362f25",
   "metadata": {},
   "outputs": [],
   "source": [
    "N_buku_1=N_buku_2=N_buku_3=10"
   ]
  },
  {
   "cell_type": "code",
   "execution_count": 5,
   "id": "1557786a",
   "metadata": {},
   "outputs": [
    {
     "data": {
      "text/plain": [
       "int"
      ]
     },
     "execution_count": 5,
     "metadata": {},
     "output_type": "execute_result"
    }
   ],
   "source": [
    "type(N_buku_1)"
   ]
  },
  {
   "cell_type": "markdown",
   "id": "4c97adea",
   "metadata": {},
   "source": [
    "# Perpustakaan 2"
   ]
  },
  {
   "cell_type": "code",
   "execution_count": 6,
   "id": "76bf50ac",
   "metadata": {},
   "outputs": [],
   "source": [
    "Nama_buku=[Nama_buku_1,Nama_buku_2,Nama_buku_3]\n",
    "Kode_buku=[kode_buku_1,kode_buku_2,kode_buku_3]\n",
    "N_buku=[N_buku_1,N_buku_2,N_buku_3]"
   ]
  },
  {
   "cell_type": "code",
   "execution_count": 7,
   "id": "9cc7de1e",
   "metadata": {},
   "outputs": [
    {
     "data": {
      "text/plain": [
       "(list, list, list)"
      ]
     },
     "execution_count": 7,
     "metadata": {},
     "output_type": "execute_result"
    }
   ],
   "source": [
    "type(Nama_buku),type(Kode_buku),type(N_buku)"
   ]
  },
  {
   "cell_type": "code",
   "execution_count": 8,
   "id": "502f1bf1",
   "metadata": {},
   "outputs": [],
   "source": [
    "#Menjadikan dictionary\n",
    "pustaka={'Nama':Nama_buku,\n",
    "        'Kode':Kode_buku,\n",
    "        'Jumlah':N_buku}"
   ]
  },
  {
   "cell_type": "code",
   "execution_count": 9,
   "id": "d61719c9",
   "metadata": {},
   "outputs": [
    {
     "data": {
      "text/plain": [
       "dict"
      ]
     },
     "execution_count": 9,
     "metadata": {},
     "output_type": "execute_result"
    }
   ],
   "source": [
    "type(pustaka)"
   ]
  },
  {
   "cell_type": "code",
   "execution_count": 10,
   "id": "961deb44",
   "metadata": {},
   "outputs": [
    {
     "name": "stdout",
     "output_type": "stream",
     "text": [
      "Buku Seni dengan Jumlah 15\n"
     ]
    }
   ],
   "source": [
    "pustaka['Nama'].append('Seni')\n",
    "pustaka['Kode'].append('ps_004')\n",
    "pustaka['Jumlah'].append(15)\n",
    "print(\"Buku {} dengan Jumlah {}\".format(pustaka['Nama'][-1],pustaka['Jumlah'][-1]))"
   ]
  },
  {
   "cell_type": "code",
   "execution_count": 11,
   "id": "9e129855",
   "metadata": {},
   "outputs": [
    {
     "data": {
      "text/plain": [
       "{'Nama': ['Fisika', 'Kimia', 'Biologi', 'Seni'],\n",
       " 'Kode': ['ps_001', 'ps_002', 'ps_003', 'ps_004'],\n",
       " 'Jumlah': [10, 10, 10, 15]}"
      ]
     },
     "execution_count": 11,
     "metadata": {},
     "output_type": "execute_result"
    }
   ],
   "source": [
    "pustaka"
   ]
  },
  {
   "cell_type": "markdown",
   "id": "6f2a073d",
   "metadata": {},
   "source": [
    "## Perpustakaan 3"
   ]
  },
  {
   "cell_type": "code",
   "execution_count": 12,
   "id": "d00499db",
   "metadata": {},
   "outputs": [
    {
     "name": "stdout",
     "output_type": "stream",
     "text": [
      "Buku yang tersedia:\n",
      "Nama Buku\t Kode Buku\t Jumlah\n",
      "Buku Fisika\t kode ps_001\t 10\n",
      "Buku Kimia\t kode ps_002\t 10\n",
      "Buku Biologi\t kode ps_003\t 10\n",
      "Buku Seni\t kode ps_004\t 15\n"
     ]
    }
   ],
   "source": [
    "print(\"Buku yang tersedia:\")\n",
    "print(\"Nama Buku\\t Kode Buku\\t Jumlah\")\n",
    "for i in range(len(pustaka['Nama'])):\n",
    "     print(\"Buku {}\\t kode {}\\t {}\".format(\n",
    "         pustaka['Nama'][i],\n",
    "         pustaka['Kode'][i],\n",
    "         pustaka['Jumlah'][i]))\n"
   ]
  },
  {
   "cell_type": "code",
   "execution_count": 13,
   "id": "a9bbc547",
   "metadata": {},
   "outputs": [
    {
     "name": "stdout",
     "output_type": "stream",
     "text": [
      "Form Peminjaman\n",
      "Nama Peminjam =Brian\n",
      "Kode Buku= ps_004\n",
      "Bisa pinjam\n",
      "Durasi waktu pinjam 3 hari\n"
     ]
    }
   ],
   "source": [
    "print(\"Form Peminjaman\")\n",
    "varNama=str(input(\"Nama Peminjam =\"))\n",
    "varBuku=str(input(\"Kode Buku= \"))\n",
    "for i in range(len(pustaka['Kode'])):\n",
    "    if varBuku==pustaka['Kode'][i] and pustaka['Jumlah'][i]>1:\n",
    "            print(\"Bisa pinjam\".format(varNama))\n",
    "            print(\"Durasi waktu pinjam {} hari\".format(durasi))\n",
    "            pustaka['Jumlah'][i]-=1\n",
    "            break\n",
    "    elif i==len(pustaka['Kode'])-1:\n",
    "        print(\"Tidak bisa dipinjam\")\n"
   ]
  },
  {
   "cell_type": "code",
   "execution_count": 14,
   "id": "04131aaa",
   "metadata": {},
   "outputs": [
    {
     "data": {
      "text/plain": [
       "{'Nama': ['Fisika', 'Kimia', 'Biologi', 'Seni'],\n",
       " 'Kode': ['ps_001', 'ps_002', 'ps_003', 'ps_004'],\n",
       " 'Jumlah': [10, 10, 10, 14]}"
      ]
     },
     "execution_count": 14,
     "metadata": {},
     "output_type": "execute_result"
    }
   ],
   "source": [
    "pustaka"
   ]
  },
  {
   "cell_type": "code",
   "execution_count": 15,
   "id": "96df9d57",
   "metadata": {},
   "outputs": [
    {
     "name": "stdout",
     "output_type": "stream",
     "text": [
      "Form Pengembalian\n",
      "Nama Peminjam\t=brian\n",
      "Kode Buku\t=ps_004\n",
      "Jumlah Hari\t=4\n",
      "Terima kasih, brian\n",
      "Denda sebesar Rp.1000\n"
     ]
    }
   ],
   "source": [
    "print(\"Form Pengembalian\")\n",
    "varNama=str(input(\"Nama Peminjam\\t=\"))\n",
    "varBuku=str(input(\"Kode Buku\\t=\"))\n",
    "varHari=int(input(\"Jumlah Hari\\t=\"))\n",
    "for i in range(len(pustaka['Kode'])):\n",
    "    if varBuku==pustaka['Kode'][i]:\n",
    "        if varHari>=durasi:\n",
    "            denda=(varHari-durasi)*1000\n",
    "            print(\"Terima kasih, {}\\nDenda sebesar Rp.{}\".format(varNama,denda))\n",
    "            pustaka['Jumlah'][i]+=1\n",
    "            break\n",
    "        else:\n",
    "            print(\"Terima kasih,{}\".format(varNama))\n",
    "            pustaka['Jumlah'][i]+=1\n",
    "            break\n",
    "    elif i==len(pustaka['Kode'])-1:\n",
    "        print(\"Salah kode\")\n"
   ]
  },
  {
   "cell_type": "code",
   "execution_count": 16,
   "id": "6c87fe3f",
   "metadata": {},
   "outputs": [
    {
     "data": {
      "text/plain": [
       "{'Nama': ['Fisika', 'Kimia', 'Biologi', 'Seni'],\n",
       " 'Kode': ['ps_001', 'ps_002', 'ps_003', 'ps_004'],\n",
       " 'Jumlah': [10, 10, 10, 15]}"
      ]
     },
     "execution_count": 16,
     "metadata": {},
     "output_type": "execute_result"
    }
   ],
   "source": [
    "pustaka"
   ]
  },
  {
   "cell_type": "markdown",
   "id": "1f6652b2",
   "metadata": {},
   "source": [
    "## Perpustakaan 4 Menggunakan Fungsi"
   ]
  },
  {
   "cell_type": "code",
   "execution_count": 17,
   "id": "b6205be7",
   "metadata": {},
   "outputs": [],
   "source": [
    "def Data_terakhir():\n",
    "    print(\"Buku yang tersedia:\")\n",
    "    print(\"Nama Buku\\t Kode Buku\\t Jumlah\")\n",
    "    for i in range(len(pustaka['Nama'])):\n",
    "        print(\"Buku {}\\t kode {}\\t {}\".format(\n",
    "            pustaka['Nama'][i],\n",
    "            pustaka['Kode'][i],\n",
    "            pustaka['Jumlah'][i]))"
   ]
  },
  {
   "cell_type": "code",
   "execution_count": 18,
   "id": "7b42b5dd",
   "metadata": {},
   "outputs": [
    {
     "name": "stdout",
     "output_type": "stream",
     "text": [
      "Buku yang tersedia:\n",
      "Nama Buku\t Kode Buku\t Jumlah\n",
      "Buku Fisika\t kode ps_001\t 10\n",
      "Buku Kimia\t kode ps_002\t 10\n",
      "Buku Biologi\t kode ps_003\t 10\n",
      "Buku Seni\t kode ps_004\t 15\n"
     ]
    }
   ],
   "source": [
    "Data_terakhir()"
   ]
  },
  {
   "cell_type": "code",
   "execution_count": 19,
   "id": "ebc3c545",
   "metadata": {},
   "outputs": [],
   "source": [
    "def peminjaman(pustaka=pustaka):\n",
    "    print(\"Form Peminjaman\")\n",
    "    varNama=str(input(\"Nama Peminjam =\"))\n",
    "    varBuku=str(input(\"Kode Buku= \"))\n",
    "    for i in range(len(pustaka['Kode'])):\n",
    "        if varBuku==pustaka['Kode'][i] and pustaka['Jumlah'][i]>1:\n",
    "                print(\"Bisa pinjam\".format(varNama))\n",
    "                print(\"Durasi waktu pinjam {} hari\".format(durasi))\n",
    "                pustaka['Jumlah'][i]-=1\n",
    "                break\n",
    "        elif i==len(pustaka['Kode'])-1:\n",
    "            print(\"Tidak bisa dipinjam\")"
   ]
  },
  {
   "cell_type": "code",
   "execution_count": 20,
   "id": "a20a0f7f",
   "metadata": {},
   "outputs": [
    {
     "name": "stdout",
     "output_type": "stream",
     "text": [
      "Form Peminjaman\n",
      "Nama Peminjam =Brian\n",
      "Kode Buku= ps_001\n",
      "Bisa pinjam\n",
      "Durasi waktu pinjam 3 hari\n"
     ]
    }
   ],
   "source": [
    "peminjaman()"
   ]
  },
  {
   "cell_type": "code",
   "execution_count": 21,
   "id": "abf3c416",
   "metadata": {},
   "outputs": [
    {
     "name": "stdout",
     "output_type": "stream",
     "text": [
      "Buku yang tersedia:\n",
      "Nama Buku\t Kode Buku\t Jumlah\n",
      "Buku Fisika\t kode ps_001\t 9\n",
      "Buku Kimia\t kode ps_002\t 10\n",
      "Buku Biologi\t kode ps_003\t 10\n",
      "Buku Seni\t kode ps_004\t 15\n"
     ]
    }
   ],
   "source": [
    "Data_terakhir()"
   ]
  },
  {
   "cell_type": "code",
   "execution_count": 22,
   "id": "53bc76c8",
   "metadata": {},
   "outputs": [],
   "source": [
    "def pengembalian(pustaka=pustaka):\n",
    "    print(\"Form Pengembalian\")\n",
    "    varNama=str(input(\"Nama Peminjam\\t=\"))\n",
    "    varBuku=str(input(\"Kode Buku\\t=\"))\n",
    "    varHari=int(input(\"Jumlah Hari\\t=\"))\n",
    "    for i in range(len(pustaka['Kode'])):\n",
    "        if varBuku==pustaka['Kode'][i]:\n",
    "            if varHari>=durasi:\n",
    "                denda=(varHari-durasi)*1000\n",
    "                print(\"Terima kasih, {}\\nDenda sebesar Rp.{}\".format(varNama,denda))\n",
    "                pustaka['Jumlah'][i]+=1\n",
    "                break\n",
    "            else:\n",
    "                print(\"Terima kasih,{}\".format(varNama))\n",
    "                pustaka['Jumlah'][i]+=1\n",
    "                break\n",
    "        elif i==len(pustaka['Kode'])-1:\n",
    "            print(\"Salah kode\")\n"
   ]
  },
  {
   "cell_type": "code",
   "execution_count": 23,
   "id": "0274f65e",
   "metadata": {},
   "outputs": [
    {
     "name": "stdout",
     "output_type": "stream",
     "text": [
      "Form Pengembalian\n",
      "Nama Peminjam\t=Brian\n",
      "Kode Buku\t=ps_001\n",
      "Jumlah Hari\t=4\n",
      "Terima kasih, Brian\n",
      "Denda sebesar Rp.1000\n"
     ]
    }
   ],
   "source": [
    "pengembalian()"
   ]
  },
  {
   "cell_type": "code",
   "execution_count": 24,
   "id": "c5675c1a",
   "metadata": {},
   "outputs": [
    {
     "name": "stdout",
     "output_type": "stream",
     "text": [
      "Buku yang tersedia:\n",
      "Nama Buku\t Kode Buku\t Jumlah\n",
      "Buku Fisika\t kode ps_001\t 10\n",
      "Buku Kimia\t kode ps_002\t 10\n",
      "Buku Biologi\t kode ps_003\t 10\n",
      "Buku Seni\t kode ps_004\t 15\n"
     ]
    }
   ],
   "source": [
    "Data_terakhir()"
   ]
  },
  {
   "cell_type": "code",
   "execution_count": 25,
   "id": "adbcf653",
   "metadata": {},
   "outputs": [],
   "source": [
    "def tambah_buku(varBuku,varKode,varJumlah):\n",
    "    for i in range(len(pustaka['Kode'])):\n",
    "         if varKode==pustaka['Kode'][i]:\n",
    "            pustaka['Jumlah'][i]+=varJumlah\n",
    "            print(\"Buku {} dengan Jumlah {}\".format(pustaka[\"Nama\"][i],\n",
    "            pustaka['Jumlah'][i]))\n",
    "            break\n",
    "    else:\n",
    "        pustaka['Nama'].append(varBuku)\n",
    "        pustaka['Kode'].append(varKode)\n",
    "        pustaka['Jumlah'].append(varJumlah)\n",
    " \n",
    "        print(\"Buku Baru {} dengan Jumlah {}\".format(pustaka[\"Nama\"][-1],\n",
    "        pustaka['Jumlah'][-1]))"
   ]
  },
  {
   "cell_type": "code",
   "execution_count": 26,
   "id": "c5177a94",
   "metadata": {},
   "outputs": [],
   "source": [
    "Judul=\"Indonesia\"\n",
    "Kode=\"ps_005\"\n",
    "Jumlah=7"
   ]
  },
  {
   "cell_type": "code",
   "execution_count": 27,
   "id": "587bca94",
   "metadata": {},
   "outputs": [
    {
     "name": "stdout",
     "output_type": "stream",
     "text": [
      "Buku Baru Indonesia dengan Jumlah 7\n"
     ]
    }
   ],
   "source": [
    "tambah_buku(Judul,Kode,Jumlah)"
   ]
  },
  {
   "cell_type": "code",
   "execution_count": 28,
   "id": "c79109f6",
   "metadata": {},
   "outputs": [
    {
     "name": "stdout",
     "output_type": "stream",
     "text": [
      "Buku yang tersedia:\n",
      "Nama Buku\t Kode Buku\t Jumlah\n",
      "Buku Fisika\t kode ps_001\t 10\n",
      "Buku Kimia\t kode ps_002\t 10\n",
      "Buku Biologi\t kode ps_003\t 10\n",
      "Buku Seni\t kode ps_004\t 15\n",
      "Buku Indonesia\t kode ps_005\t 7\n"
     ]
    }
   ],
   "source": [
    "Data_terakhir()"
   ]
  },
  {
   "cell_type": "code",
   "execution_count": 29,
   "id": "e25d5fe8",
   "metadata": {},
   "outputs": [],
   "source": [
    "Judul=\"Seni\"\n",
    "Kode=\"ps_004\"\n",
    "Jumlah=5"
   ]
  },
  {
   "cell_type": "code",
   "execution_count": 30,
   "id": "6420f32c",
   "metadata": {},
   "outputs": [
    {
     "name": "stdout",
     "output_type": "stream",
     "text": [
      "Buku Seni dengan Jumlah 20\n"
     ]
    }
   ],
   "source": [
    "tambah_buku(Judul,Kode,Jumlah)"
   ]
  },
  {
   "cell_type": "code",
   "execution_count": 31,
   "id": "1f9ff9dd",
   "metadata": {},
   "outputs": [
    {
     "name": "stdout",
     "output_type": "stream",
     "text": [
      "Buku yang tersedia:\n",
      "Nama Buku\t Kode Buku\t Jumlah\n",
      "Buku Fisika\t kode ps_001\t 10\n",
      "Buku Kimia\t kode ps_002\t 10\n",
      "Buku Biologi\t kode ps_003\t 10\n",
      "Buku Seni\t kode ps_004\t 20\n",
      "Buku Indonesia\t kode ps_005\t 7\n"
     ]
    }
   ],
   "source": [
    "Data_terakhir()"
   ]
  },
  {
   "cell_type": "markdown",
   "id": "9ead1073",
   "metadata": {},
   "source": [
    "# Perpustakaan 5\n",
    "## Pandas Frame"
   ]
  },
  {
   "cell_type": "code",
   "execution_count": 32,
   "id": "8ae68422",
   "metadata": {},
   "outputs": [],
   "source": [
    "import pandas as pd"
   ]
  },
  {
   "cell_type": "code",
   "execution_count": 33,
   "id": "18bba41d",
   "metadata": {},
   "outputs": [
    {
     "data": {
      "text/plain": [
       "{'Nama': ['Fisika', 'Kimia', 'Biologi', 'Seni', 'Indonesia'],\n",
       " 'Kode': ['ps_001', 'ps_002', 'ps_003', 'ps_004', 'ps_005'],\n",
       " 'Jumlah': [10, 10, 10, 20, 7]}"
      ]
     },
     "execution_count": 33,
     "metadata": {},
     "output_type": "execute_result"
    }
   ],
   "source": [
    "pustaka"
   ]
  },
  {
   "cell_type": "code",
   "execution_count": 34,
   "id": "d0479ba8",
   "metadata": {},
   "outputs": [],
   "source": [
    "df=pd.DataFrame(pustaka)"
   ]
  },
  {
   "cell_type": "code",
   "execution_count": 35,
   "id": "01c2a69b",
   "metadata": {},
   "outputs": [
    {
     "data": {
      "text/html": [
       "<div>\n",
       "<style scoped>\n",
       "    .dataframe tbody tr th:only-of-type {\n",
       "        vertical-align: middle;\n",
       "    }\n",
       "\n",
       "    .dataframe tbody tr th {\n",
       "        vertical-align: top;\n",
       "    }\n",
       "\n",
       "    .dataframe thead th {\n",
       "        text-align: right;\n",
       "    }\n",
       "</style>\n",
       "<table border=\"1\" class=\"dataframe\">\n",
       "  <thead>\n",
       "    <tr style=\"text-align: right;\">\n",
       "      <th></th>\n",
       "      <th>Nama</th>\n",
       "      <th>Kode</th>\n",
       "      <th>Jumlah</th>\n",
       "    </tr>\n",
       "  </thead>\n",
       "  <tbody>\n",
       "    <tr>\n",
       "      <th>0</th>\n",
       "      <td>Fisika</td>\n",
       "      <td>ps_001</td>\n",
       "      <td>10</td>\n",
       "    </tr>\n",
       "    <tr>\n",
       "      <th>1</th>\n",
       "      <td>Kimia</td>\n",
       "      <td>ps_002</td>\n",
       "      <td>10</td>\n",
       "    </tr>\n",
       "    <tr>\n",
       "      <th>2</th>\n",
       "      <td>Biologi</td>\n",
       "      <td>ps_003</td>\n",
       "      <td>10</td>\n",
       "    </tr>\n",
       "    <tr>\n",
       "      <th>3</th>\n",
       "      <td>Seni</td>\n",
       "      <td>ps_004</td>\n",
       "      <td>20</td>\n",
       "    </tr>\n",
       "    <tr>\n",
       "      <th>4</th>\n",
       "      <td>Indonesia</td>\n",
       "      <td>ps_005</td>\n",
       "      <td>7</td>\n",
       "    </tr>\n",
       "  </tbody>\n",
       "</table>\n",
       "</div>"
      ],
      "text/plain": [
       "        Nama    Kode  Jumlah\n",
       "0     Fisika  ps_001      10\n",
       "1      Kimia  ps_002      10\n",
       "2    Biologi  ps_003      10\n",
       "3       Seni  ps_004      20\n",
       "4  Indonesia  ps_005       7"
      ]
     },
     "execution_count": 35,
     "metadata": {},
     "output_type": "execute_result"
    }
   ],
   "source": [
    "df"
   ]
  },
  {
   "cell_type": "code",
   "execution_count": 36,
   "id": "4907b6d7",
   "metadata": {},
   "outputs": [],
   "source": [
    "def peminjaman_df(durasi=durasi):\n",
    "    print(\"Form Peminjaman\")\n",
    "    varNama=str(input(\"Nama Peminjam =\"))\n",
    "    varBuku=str(input(\"Kode Buku= \"))\n",
    "    for i in range(len(pustaka['Kode'])):\n",
    "        if varBuku==df['Kode'].iloc[i] and df['Jumlah'].iloc[i]>1:\n",
    "                print(\"Bisa pinjam\".format(varNama))\n",
    "                print(\"Durasi waktu pinjam {} hari\".format(durasi))\n",
    "                df.at[i,'Jumlah']-=1\n",
    "                return df\n",
    "                break\n",
    "        elif i==len(df):\n",
    "            print(\"Tidak bisa dipinjam\")"
   ]
  },
  {
   "cell_type": "code",
   "execution_count": 37,
   "id": "7a83f1db",
   "metadata": {},
   "outputs": [],
   "source": [
    "def pengembalian_df(durasi=durasi):\n",
    "    print(\"Form Pengembalian\")\n",
    "    varNama=str(input(\"Nama Peminjam\\t=\"))\n",
    "    varBuku=str(input(\"Kode Buku\\t=\"))\n",
    "    varHari=int(input(\"Jumlah Hari\\t=\"))\n",
    "    for i in range(len(pustaka['Kode'])):\n",
    "        if varBuku==df['Kode'][i]:\n",
    "            if varHari>=durasi:\n",
    "                denda=(varHari-durasi)*1000\n",
    "                print(\"Terima kasih, {}\\nDenda sebesar Rp.{}\".format(varNama,denda))\n",
    "                df.at[i,'Jumlah']+=1\n",
    "                return df\n",
    "                break\n",
    "            else:\n",
    "                print(\"Terima kasih,{}\".format(varNama))\n",
    "                df.at[i,'Jumlah']+=1\n",
    "                return df\n",
    "                break\n",
    "        elif i==len(df):\n",
    "            print(\"Salah kode\")"
   ]
  },
  {
   "cell_type": "code",
   "execution_count": 38,
   "id": "8547700e",
   "metadata": {},
   "outputs": [],
   "source": [
    "def tambah_buku_df(varBuku,varKode,varJumlah,df=df):\n",
    "    for i in range(len(df)):\n",
    "         if varKode==df['Kode'][i]:\n",
    "            df.at[i,'Jumlah']+=varJumlah\n",
    "            print(\"Buku {} dengan Jumlah {}\".format(df[\"Nama\"].iloc[i],\n",
    "            df['Jumlah'].iloc[i]))\n",
    "            break\n",
    "    else:\n",
    "        var1={\"Nama\":varBuku,\"Kode\":varKode,\"Jumlah\":varJumlah}\n",
    "        df=df.append(var1, ignore_index=True)\n",
    " \n",
    "        print(\"Buku Baru {} dengan Jumlah {}\".format(df[\"Nama\"].iloc[-1],\n",
    "        df['Jumlah'].iloc[-1]))\n",
    "    return df"
   ]
  },
  {
   "cell_type": "code",
   "execution_count": 39,
   "id": "c909f910",
   "metadata": {},
   "outputs": [
    {
     "data": {
      "text/html": [
       "<div>\n",
       "<style scoped>\n",
       "    .dataframe tbody tr th:only-of-type {\n",
       "        vertical-align: middle;\n",
       "    }\n",
       "\n",
       "    .dataframe tbody tr th {\n",
       "        vertical-align: top;\n",
       "    }\n",
       "\n",
       "    .dataframe thead th {\n",
       "        text-align: right;\n",
       "    }\n",
       "</style>\n",
       "<table border=\"1\" class=\"dataframe\">\n",
       "  <thead>\n",
       "    <tr style=\"text-align: right;\">\n",
       "      <th></th>\n",
       "      <th>Nama</th>\n",
       "      <th>Kode</th>\n",
       "      <th>Jumlah</th>\n",
       "    </tr>\n",
       "  </thead>\n",
       "  <tbody>\n",
       "    <tr>\n",
       "      <th>0</th>\n",
       "      <td>Fisika</td>\n",
       "      <td>ps_001</td>\n",
       "      <td>10</td>\n",
       "    </tr>\n",
       "    <tr>\n",
       "      <th>1</th>\n",
       "      <td>Kimia</td>\n",
       "      <td>ps_002</td>\n",
       "      <td>10</td>\n",
       "    </tr>\n",
       "    <tr>\n",
       "      <th>2</th>\n",
       "      <td>Biologi</td>\n",
       "      <td>ps_003</td>\n",
       "      <td>10</td>\n",
       "    </tr>\n",
       "    <tr>\n",
       "      <th>3</th>\n",
       "      <td>Seni</td>\n",
       "      <td>ps_004</td>\n",
       "      <td>20</td>\n",
       "    </tr>\n",
       "    <tr>\n",
       "      <th>4</th>\n",
       "      <td>Indonesia</td>\n",
       "      <td>ps_005</td>\n",
       "      <td>7</td>\n",
       "    </tr>\n",
       "  </tbody>\n",
       "</table>\n",
       "</div>"
      ],
      "text/plain": [
       "        Nama    Kode  Jumlah\n",
       "0     Fisika  ps_001      10\n",
       "1      Kimia  ps_002      10\n",
       "2    Biologi  ps_003      10\n",
       "3       Seni  ps_004      20\n",
       "4  Indonesia  ps_005       7"
      ]
     },
     "execution_count": 39,
     "metadata": {},
     "output_type": "execute_result"
    }
   ],
   "source": [
    "df"
   ]
  },
  {
   "cell_type": "code",
   "execution_count": 40,
   "id": "a89524f5",
   "metadata": {},
   "outputs": [
    {
     "name": "stdout",
     "output_type": "stream",
     "text": [
      "Form Peminjaman\n",
      "Nama Peminjam =Bren\n",
      "Kode Buku= ps_005\n",
      "Bisa pinjam\n",
      "Durasi waktu pinjam 3 hari\n"
     ]
    }
   ],
   "source": [
    "df=peminjaman_df()"
   ]
  },
  {
   "cell_type": "code",
   "execution_count": 41,
   "id": "712020a0",
   "metadata": {},
   "outputs": [
    {
     "data": {
      "text/html": [
       "<div>\n",
       "<style scoped>\n",
       "    .dataframe tbody tr th:only-of-type {\n",
       "        vertical-align: middle;\n",
       "    }\n",
       "\n",
       "    .dataframe tbody tr th {\n",
       "        vertical-align: top;\n",
       "    }\n",
       "\n",
       "    .dataframe thead th {\n",
       "        text-align: right;\n",
       "    }\n",
       "</style>\n",
       "<table border=\"1\" class=\"dataframe\">\n",
       "  <thead>\n",
       "    <tr style=\"text-align: right;\">\n",
       "      <th></th>\n",
       "      <th>Nama</th>\n",
       "      <th>Kode</th>\n",
       "      <th>Jumlah</th>\n",
       "    </tr>\n",
       "  </thead>\n",
       "  <tbody>\n",
       "    <tr>\n",
       "      <th>0</th>\n",
       "      <td>Fisika</td>\n",
       "      <td>ps_001</td>\n",
       "      <td>10</td>\n",
       "    </tr>\n",
       "    <tr>\n",
       "      <th>1</th>\n",
       "      <td>Kimia</td>\n",
       "      <td>ps_002</td>\n",
       "      <td>10</td>\n",
       "    </tr>\n",
       "    <tr>\n",
       "      <th>2</th>\n",
       "      <td>Biologi</td>\n",
       "      <td>ps_003</td>\n",
       "      <td>10</td>\n",
       "    </tr>\n",
       "    <tr>\n",
       "      <th>3</th>\n",
       "      <td>Seni</td>\n",
       "      <td>ps_004</td>\n",
       "      <td>20</td>\n",
       "    </tr>\n",
       "    <tr>\n",
       "      <th>4</th>\n",
       "      <td>Indonesia</td>\n",
       "      <td>ps_005</td>\n",
       "      <td>6</td>\n",
       "    </tr>\n",
       "  </tbody>\n",
       "</table>\n",
       "</div>"
      ],
      "text/plain": [
       "        Nama    Kode  Jumlah\n",
       "0     Fisika  ps_001      10\n",
       "1      Kimia  ps_002      10\n",
       "2    Biologi  ps_003      10\n",
       "3       Seni  ps_004      20\n",
       "4  Indonesia  ps_005       6"
      ]
     },
     "execution_count": 41,
     "metadata": {},
     "output_type": "execute_result"
    }
   ],
   "source": [
    "df"
   ]
  },
  {
   "cell_type": "code",
   "execution_count": 42,
   "id": "c68f0803",
   "metadata": {},
   "outputs": [
    {
     "name": "stdout",
     "output_type": "stream",
     "text": [
      "Buku Baru Astronomi dengan Jumlah 5\n"
     ]
    }
   ],
   "source": [
    "judul = 'Astronomi'\n",
    "kode = 'ps_006'\n",
    "Jumlah =5\n",
    "df=tambah_buku_df(judul,kode,Jumlah)"
   ]
  },
  {
   "cell_type": "code",
   "execution_count": 43,
   "id": "fa62986a",
   "metadata": {},
   "outputs": [
    {
     "data": {
      "text/html": [
       "<div>\n",
       "<style scoped>\n",
       "    .dataframe tbody tr th:only-of-type {\n",
       "        vertical-align: middle;\n",
       "    }\n",
       "\n",
       "    .dataframe tbody tr th {\n",
       "        vertical-align: top;\n",
       "    }\n",
       "\n",
       "    .dataframe thead th {\n",
       "        text-align: right;\n",
       "    }\n",
       "</style>\n",
       "<table border=\"1\" class=\"dataframe\">\n",
       "  <thead>\n",
       "    <tr style=\"text-align: right;\">\n",
       "      <th></th>\n",
       "      <th>Nama</th>\n",
       "      <th>Kode</th>\n",
       "      <th>Jumlah</th>\n",
       "    </tr>\n",
       "  </thead>\n",
       "  <tbody>\n",
       "    <tr>\n",
       "      <th>0</th>\n",
       "      <td>Fisika</td>\n",
       "      <td>ps_001</td>\n",
       "      <td>10</td>\n",
       "    </tr>\n",
       "    <tr>\n",
       "      <th>1</th>\n",
       "      <td>Kimia</td>\n",
       "      <td>ps_002</td>\n",
       "      <td>10</td>\n",
       "    </tr>\n",
       "    <tr>\n",
       "      <th>2</th>\n",
       "      <td>Biologi</td>\n",
       "      <td>ps_003</td>\n",
       "      <td>10</td>\n",
       "    </tr>\n",
       "    <tr>\n",
       "      <th>3</th>\n",
       "      <td>Seni</td>\n",
       "      <td>ps_004</td>\n",
       "      <td>20</td>\n",
       "    </tr>\n",
       "    <tr>\n",
       "      <th>4</th>\n",
       "      <td>Indonesia</td>\n",
       "      <td>ps_005</td>\n",
       "      <td>6</td>\n",
       "    </tr>\n",
       "    <tr>\n",
       "      <th>5</th>\n",
       "      <td>Astronomi</td>\n",
       "      <td>ps_006</td>\n",
       "      <td>5</td>\n",
       "    </tr>\n",
       "  </tbody>\n",
       "</table>\n",
       "</div>"
      ],
      "text/plain": [
       "        Nama    Kode  Jumlah\n",
       "0     Fisika  ps_001      10\n",
       "1      Kimia  ps_002      10\n",
       "2    Biologi  ps_003      10\n",
       "3       Seni  ps_004      20\n",
       "4  Indonesia  ps_005       6\n",
       "5  Astronomi  ps_006       5"
      ]
     },
     "execution_count": 43,
     "metadata": {},
     "output_type": "execute_result"
    }
   ],
   "source": [
    "df"
   ]
  },
  {
   "cell_type": "markdown",
   "id": "74687d56",
   "metadata": {},
   "source": [
    "## Perpustakaan 6"
   ]
  },
  {
   "cell_type": "code",
   "execution_count": 44,
   "id": "6f1e41d6",
   "metadata": {},
   "outputs": [],
   "source": [
    "import numpy as np\n",
    "import matplotlib.pyplot as plt"
   ]
  },
  {
   "cell_type": "code",
   "execution_count": 49,
   "id": "c0243eab",
   "metadata": {},
   "outputs": [],
   "source": [
    "df['Pinjam']=np.random.randint(1,10,len(df))"
   ]
  },
  {
   "cell_type": "code",
   "execution_count": 50,
   "id": "8deb2abc",
   "metadata": {},
   "outputs": [
    {
     "data": {
      "text/html": [
       "<div>\n",
       "<style scoped>\n",
       "    .dataframe tbody tr th:only-of-type {\n",
       "        vertical-align: middle;\n",
       "    }\n",
       "\n",
       "    .dataframe tbody tr th {\n",
       "        vertical-align: top;\n",
       "    }\n",
       "\n",
       "    .dataframe thead th {\n",
       "        text-align: right;\n",
       "    }\n",
       "</style>\n",
       "<table border=\"1\" class=\"dataframe\">\n",
       "  <thead>\n",
       "    <tr style=\"text-align: right;\">\n",
       "      <th></th>\n",
       "      <th>Nama</th>\n",
       "      <th>Kode</th>\n",
       "      <th>Jumlah</th>\n",
       "      <th>Pinjam</th>\n",
       "    </tr>\n",
       "  </thead>\n",
       "  <tbody>\n",
       "    <tr>\n",
       "      <th>0</th>\n",
       "      <td>Fisika</td>\n",
       "      <td>ps_001</td>\n",
       "      <td>10</td>\n",
       "      <td>8</td>\n",
       "    </tr>\n",
       "    <tr>\n",
       "      <th>1</th>\n",
       "      <td>Kimia</td>\n",
       "      <td>ps_002</td>\n",
       "      <td>10</td>\n",
       "      <td>1</td>\n",
       "    </tr>\n",
       "    <tr>\n",
       "      <th>2</th>\n",
       "      <td>Biologi</td>\n",
       "      <td>ps_003</td>\n",
       "      <td>10</td>\n",
       "      <td>9</td>\n",
       "    </tr>\n",
       "    <tr>\n",
       "      <th>3</th>\n",
       "      <td>Seni</td>\n",
       "      <td>ps_004</td>\n",
       "      <td>20</td>\n",
       "      <td>1</td>\n",
       "    </tr>\n",
       "    <tr>\n",
       "      <th>4</th>\n",
       "      <td>Indonesia</td>\n",
       "      <td>ps_005</td>\n",
       "      <td>6</td>\n",
       "      <td>8</td>\n",
       "    </tr>\n",
       "    <tr>\n",
       "      <th>5</th>\n",
       "      <td>Astronomi</td>\n",
       "      <td>ps_006</td>\n",
       "      <td>5</td>\n",
       "      <td>8</td>\n",
       "    </tr>\n",
       "  </tbody>\n",
       "</table>\n",
       "</div>"
      ],
      "text/plain": [
       "        Nama    Kode  Jumlah  Pinjam\n",
       "0     Fisika  ps_001      10       8\n",
       "1      Kimia  ps_002      10       1\n",
       "2    Biologi  ps_003      10       9\n",
       "3       Seni  ps_004      20       1\n",
       "4  Indonesia  ps_005       6       8\n",
       "5  Astronomi  ps_006       5       8"
      ]
     },
     "execution_count": 50,
     "metadata": {},
     "output_type": "execute_result"
    }
   ],
   "source": [
    "df"
   ]
  },
  {
   "cell_type": "code",
   "execution_count": 51,
   "id": "7f7d2c1b",
   "metadata": {},
   "outputs": [],
   "source": [
    "def peminjaman_df(durasi=durasi):\n",
    "    print(\"Form Peminjaman\")\n",
    "    varNama=str(input(\"Nama Peminjam =\"))\n",
    "    varBuku=str(input(\"Kode Buku= \"))\n",
    "    for i in range(len(pustaka['Kode'])):\n",
    "        if varBuku==df['Kode'].iloc[i] and df['Jumlah'].iloc[i]>1:\n",
    "                print(\"Bisa pinjam\".format(varNama))\n",
    "                print(\"Durasi waktu pinjam {} hari\".format(durasi))\n",
    "                df.at[i,'Jumlah']-=1\n",
    "                df.at[i,'Pinjam']+=1\n",
    "                return df\n",
    "                break\n",
    "        elif i==len(df):\n",
    "            print(\"Tidak bisa dipinjam\")"
   ]
  },
  {
   "cell_type": "code",
   "execution_count": 52,
   "id": "beb95aae",
   "metadata": {},
   "outputs": [],
   "source": [
    "def pengembalian_df(durasi=durasi):\n",
    "    print(\"Form Pengembalian\")\n",
    "    varNama=str(input(\"Nama Peminjam\\t=\"))\n",
    "    varBuku=str(input(\"Kode Buku\\t=\"))\n",
    "    varHari=int(input(\"Jumlah Hari\\t=\"))\n",
    "    for i in range(len(pustaka['Kode'])):\n",
    "        if varBuku==df['Kode'][i]:\n",
    "            if varHari>=durasi:\n",
    "                denda=(varHari-durasi)*1000\n",
    "                print(\"Terima kasih, {}\\nDenda sebesar Rp.{}\".format(varNama,denda))\n",
    "                df.at[i,'Jumlah']+=1\n",
    "                df.at[i,'Pinjam']-=1\n",
    "                return df\n",
    "                break\n",
    "            else:\n",
    "                print(\"Terima kasih,{}\".format(varNama))\n",
    "                df.at[i,'Jumlah']+=1\n",
    "                df.at[i,'Pinjam']-=1\n",
    "                return df\n",
    "                break\n",
    "        elif i==len(df):\n",
    "            print(\"Salah kode\")"
   ]
  },
  {
   "cell_type": "code",
   "execution_count": 53,
   "id": "0bc39413",
   "metadata": {},
   "outputs": [
    {
     "data": {
      "text/html": [
       "<div>\n",
       "<style scoped>\n",
       "    .dataframe tbody tr th:only-of-type {\n",
       "        vertical-align: middle;\n",
       "    }\n",
       "\n",
       "    .dataframe tbody tr th {\n",
       "        vertical-align: top;\n",
       "    }\n",
       "\n",
       "    .dataframe thead th {\n",
       "        text-align: right;\n",
       "    }\n",
       "</style>\n",
       "<table border=\"1\" class=\"dataframe\">\n",
       "  <thead>\n",
       "    <tr style=\"text-align: right;\">\n",
       "      <th></th>\n",
       "      <th>Nama</th>\n",
       "      <th>Kode</th>\n",
       "      <th>Jumlah</th>\n",
       "      <th>Pinjam</th>\n",
       "    </tr>\n",
       "  </thead>\n",
       "  <tbody>\n",
       "    <tr>\n",
       "      <th>0</th>\n",
       "      <td>Fisika</td>\n",
       "      <td>ps_001</td>\n",
       "      <td>10</td>\n",
       "      <td>8</td>\n",
       "    </tr>\n",
       "    <tr>\n",
       "      <th>1</th>\n",
       "      <td>Kimia</td>\n",
       "      <td>ps_002</td>\n",
       "      <td>10</td>\n",
       "      <td>1</td>\n",
       "    </tr>\n",
       "    <tr>\n",
       "      <th>2</th>\n",
       "      <td>Biologi</td>\n",
       "      <td>ps_003</td>\n",
       "      <td>10</td>\n",
       "      <td>9</td>\n",
       "    </tr>\n",
       "    <tr>\n",
       "      <th>3</th>\n",
       "      <td>Seni</td>\n",
       "      <td>ps_004</td>\n",
       "      <td>20</td>\n",
       "      <td>1</td>\n",
       "    </tr>\n",
       "    <tr>\n",
       "      <th>4</th>\n",
       "      <td>Indonesia</td>\n",
       "      <td>ps_005</td>\n",
       "      <td>6</td>\n",
       "      <td>8</td>\n",
       "    </tr>\n",
       "    <tr>\n",
       "      <th>5</th>\n",
       "      <td>Astronomi</td>\n",
       "      <td>ps_006</td>\n",
       "      <td>5</td>\n",
       "      <td>8</td>\n",
       "    </tr>\n",
       "  </tbody>\n",
       "</table>\n",
       "</div>"
      ],
      "text/plain": [
       "        Nama    Kode  Jumlah  Pinjam\n",
       "0     Fisika  ps_001      10       8\n",
       "1      Kimia  ps_002      10       1\n",
       "2    Biologi  ps_003      10       9\n",
       "3       Seni  ps_004      20       1\n",
       "4  Indonesia  ps_005       6       8\n",
       "5  Astronomi  ps_006       5       8"
      ]
     },
     "execution_count": 53,
     "metadata": {},
     "output_type": "execute_result"
    }
   ],
   "source": [
    "df"
   ]
  },
  {
   "cell_type": "code",
   "execution_count": 54,
   "id": "f4c289ec",
   "metadata": {},
   "outputs": [
    {
     "name": "stdout",
     "output_type": "stream",
     "text": [
      "Form Peminjaman\n",
      "Nama Peminjam =Brian\n",
      "Kode Buku= ps_003\n",
      "Bisa pinjam\n",
      "Durasi waktu pinjam 3 hari\n"
     ]
    }
   ],
   "source": [
    "df=peminjaman_df()"
   ]
  },
  {
   "cell_type": "code",
   "execution_count": 55,
   "id": "aa8949f3",
   "metadata": {},
   "outputs": [
    {
     "data": {
      "text/html": [
       "<div>\n",
       "<style scoped>\n",
       "    .dataframe tbody tr th:only-of-type {\n",
       "        vertical-align: middle;\n",
       "    }\n",
       "\n",
       "    .dataframe tbody tr th {\n",
       "        vertical-align: top;\n",
       "    }\n",
       "\n",
       "    .dataframe thead th {\n",
       "        text-align: right;\n",
       "    }\n",
       "</style>\n",
       "<table border=\"1\" class=\"dataframe\">\n",
       "  <thead>\n",
       "    <tr style=\"text-align: right;\">\n",
       "      <th></th>\n",
       "      <th>Nama</th>\n",
       "      <th>Kode</th>\n",
       "      <th>Jumlah</th>\n",
       "      <th>Pinjam</th>\n",
       "    </tr>\n",
       "  </thead>\n",
       "  <tbody>\n",
       "    <tr>\n",
       "      <th>0</th>\n",
       "      <td>Fisika</td>\n",
       "      <td>ps_001</td>\n",
       "      <td>10</td>\n",
       "      <td>8</td>\n",
       "    </tr>\n",
       "    <tr>\n",
       "      <th>1</th>\n",
       "      <td>Kimia</td>\n",
       "      <td>ps_002</td>\n",
       "      <td>10</td>\n",
       "      <td>1</td>\n",
       "    </tr>\n",
       "    <tr>\n",
       "      <th>2</th>\n",
       "      <td>Biologi</td>\n",
       "      <td>ps_003</td>\n",
       "      <td>9</td>\n",
       "      <td>10</td>\n",
       "    </tr>\n",
       "    <tr>\n",
       "      <th>3</th>\n",
       "      <td>Seni</td>\n",
       "      <td>ps_004</td>\n",
       "      <td>20</td>\n",
       "      <td>1</td>\n",
       "    </tr>\n",
       "    <tr>\n",
       "      <th>4</th>\n",
       "      <td>Indonesia</td>\n",
       "      <td>ps_005</td>\n",
       "      <td>6</td>\n",
       "      <td>8</td>\n",
       "    </tr>\n",
       "    <tr>\n",
       "      <th>5</th>\n",
       "      <td>Astronomi</td>\n",
       "      <td>ps_006</td>\n",
       "      <td>5</td>\n",
       "      <td>8</td>\n",
       "    </tr>\n",
       "  </tbody>\n",
       "</table>\n",
       "</div>"
      ],
      "text/plain": [
       "        Nama    Kode  Jumlah  Pinjam\n",
       "0     Fisika  ps_001      10       8\n",
       "1      Kimia  ps_002      10       1\n",
       "2    Biologi  ps_003       9      10\n",
       "3       Seni  ps_004      20       1\n",
       "4  Indonesia  ps_005       6       8\n",
       "5  Astronomi  ps_006       5       8"
      ]
     },
     "execution_count": 55,
     "metadata": {},
     "output_type": "execute_result"
    }
   ],
   "source": [
    "df"
   ]
  },
  {
   "cell_type": "code",
   "execution_count": 56,
   "id": "c0d4c230",
   "metadata": {},
   "outputs": [
    {
     "name": "stdout",
     "output_type": "stream",
     "text": [
      "Form Pengembalian\n",
      "Nama Peminjam\t=ps_002\n",
      "Kode Buku\t=ps_002\n",
      "Jumlah Hari\t=5\n",
      "Terima kasih, ps_002\n",
      "Denda sebesar Rp.2000\n"
     ]
    }
   ],
   "source": [
    "df=pengembalian_df()"
   ]
  },
  {
   "cell_type": "code",
   "execution_count": 57,
   "id": "4a19792b",
   "metadata": {},
   "outputs": [
    {
     "data": {
      "text/html": [
       "<div>\n",
       "<style scoped>\n",
       "    .dataframe tbody tr th:only-of-type {\n",
       "        vertical-align: middle;\n",
       "    }\n",
       "\n",
       "    .dataframe tbody tr th {\n",
       "        vertical-align: top;\n",
       "    }\n",
       "\n",
       "    .dataframe thead th {\n",
       "        text-align: right;\n",
       "    }\n",
       "</style>\n",
       "<table border=\"1\" class=\"dataframe\">\n",
       "  <thead>\n",
       "    <tr style=\"text-align: right;\">\n",
       "      <th></th>\n",
       "      <th>Nama</th>\n",
       "      <th>Kode</th>\n",
       "      <th>Jumlah</th>\n",
       "      <th>Pinjam</th>\n",
       "    </tr>\n",
       "  </thead>\n",
       "  <tbody>\n",
       "    <tr>\n",
       "      <th>0</th>\n",
       "      <td>Fisika</td>\n",
       "      <td>ps_001</td>\n",
       "      <td>10</td>\n",
       "      <td>8</td>\n",
       "    </tr>\n",
       "    <tr>\n",
       "      <th>1</th>\n",
       "      <td>Kimia</td>\n",
       "      <td>ps_002</td>\n",
       "      <td>11</td>\n",
       "      <td>0</td>\n",
       "    </tr>\n",
       "    <tr>\n",
       "      <th>2</th>\n",
       "      <td>Biologi</td>\n",
       "      <td>ps_003</td>\n",
       "      <td>9</td>\n",
       "      <td>10</td>\n",
       "    </tr>\n",
       "    <tr>\n",
       "      <th>3</th>\n",
       "      <td>Seni</td>\n",
       "      <td>ps_004</td>\n",
       "      <td>20</td>\n",
       "      <td>1</td>\n",
       "    </tr>\n",
       "    <tr>\n",
       "      <th>4</th>\n",
       "      <td>Indonesia</td>\n",
       "      <td>ps_005</td>\n",
       "      <td>6</td>\n",
       "      <td>8</td>\n",
       "    </tr>\n",
       "    <tr>\n",
       "      <th>5</th>\n",
       "      <td>Astronomi</td>\n",
       "      <td>ps_006</td>\n",
       "      <td>5</td>\n",
       "      <td>8</td>\n",
       "    </tr>\n",
       "  </tbody>\n",
       "</table>\n",
       "</div>"
      ],
      "text/plain": [
       "        Nama    Kode  Jumlah  Pinjam\n",
       "0     Fisika  ps_001      10       8\n",
       "1      Kimia  ps_002      11       0\n",
       "2    Biologi  ps_003       9      10\n",
       "3       Seni  ps_004      20       1\n",
       "4  Indonesia  ps_005       6       8\n",
       "5  Astronomi  ps_006       5       8"
      ]
     },
     "execution_count": 57,
     "metadata": {},
     "output_type": "execute_result"
    }
   ],
   "source": [
    "df"
   ]
  },
  {
   "cell_type": "code",
   "execution_count": 59,
   "id": "bd9e4c66",
   "metadata": {},
   "outputs": [
    {
     "data": {
      "image/png": "[encoded data removed]",
      "text/plain": [
       "<Figure size 432x288 with 1 Axes>"
      ]
     },
     "metadata": {
      "needs_background": "light"
     },
     "output_type": "display_data"
    }
   ],
   "source": [
    "plt.title(\"Ketersediaan Buku\")\n",
    "pjgLabel=np.arange(len(df))\n",
    "lbr=0.5\n",
    "varLabel=df['Nama'].values\n",
    "varJumlah=df['Jumlah'].values\n",
    "varPinjam=df['Pinjam'].values\n",
    "plt.bar(pjgLabel, varJumlah, color=\"red\",width=lbr, label='Jumlah')\n",
    "plt.bar(pjgLabel+lbr, varPinjam, color=\"blue\",width=lbr,label='Pinjam')\n",
    "plt.legend(loc='best')\n",
    "plt.show()"
   ]
  },
  {
   "cell_type": "code",
   "execution_count": 61,
   "id": "22f68ce1",
   "metadata": {},
   "outputs": [
    {
     "data": {
      "image/png": "[encoded data removed]",
      "text/plain": [
       "<Figure size 432x288 with 1 Axes>"
      ]
     },
     "metadata": {},
     "output_type": "display_data"
    }
   ],
   "source": [
    "plt.title(\"Persentase ketersediaan buku\")\n",
    "plt.pie(varJumlah,labels=varLabel, autopct='%1.2f%%', shadow=True)\n",
    "plt.show()"
   ]
  },
  {
   "cell_type": "code",
   "execution_count": 62,
   "id": "7147a83e",
   "metadata": {},
   "outputs": [
    {
     "data": {
      "image/png": "[encoded data removed]",
      "text/plain": [
       "<Figure size 432x288 with 1 Axes>"
      ]
     },
     "metadata": {},
     "output_type": "display_data"
    }
   ],
   "source": [
    "plt.title(\"Persentase Peminjaman buku\")\n",
    "plt.pie(varPinjam,labels=varLabel, autopct='%1.2f%%', shadow=True)\n",
    "plt.show()"
   ]
  },
  {
   "cell_type": "code",
   "execution_count": null,
   "id": "4a130b15",
   "metadata": {},
   "outputs": [],
   "source": []
  }
 ],
 "metadata": {
  "kernelspec": {
   "display_name": "Python 3",
   "language": "python",
   "name": "python3"
  },
  "language_info": {
   "codemirror_mode": {
    "name": "ipython",
    "version": 3
   },
   "file_extension": ".py",
   "mimetype": "text/x-python",
   "name": "python",
   "nbconvert_exporter": "python",
   "pygments_lexer": "ipython3",
   "version": "3.8.8"
  }
 },
 "nbformat": 4,
 "nbformat_minor": 5
}
