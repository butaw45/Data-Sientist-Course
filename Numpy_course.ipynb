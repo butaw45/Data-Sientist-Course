{
 "cells": [
  {
   "cell_type": "code",
   "execution_count": 1,
   "id": "17b63d47",
   "metadata": {},
   "outputs": [],
   "source": [
    "import numpy as np"
   ]
  },
  {
   "cell_type": "code",
   "execution_count": 2,
   "id": "760b0c52",
   "metadata": {},
   "outputs": [],
   "source": [
    "var1=np.array([1,2,3,4])"
   ]
  },
  {
   "cell_type": "code",
   "execution_count": 3,
   "id": "eba195d9",
   "metadata": {},
   "outputs": [
    {
     "data": {
      "text/plain": [
       "array([1, 2, 3, 4])"
      ]
     },
     "execution_count": 3,
     "metadata": {},
     "output_type": "execute_result"
    }
   ],
   "source": [
    "var1"
   ]
  },
  {
   "cell_type": "code",
   "execution_count": 4,
   "id": "3ee1e101",
   "metadata": {},
   "outputs": [
    {
     "data": {
      "text/plain": [
       "numpy.ndarray"
      ]
     },
     "execution_count": 4,
     "metadata": {},
     "output_type": "execute_result"
    }
   ],
   "source": [
    "type(var1)"
   ]
  },
  {
   "cell_type": "code",
   "execution_count": 5,
   "id": "90033a9c",
   "metadata": {},
   "outputs": [
    {
     "data": {
      "text/plain": [
       "dtype('int32')"
      ]
     },
     "execution_count": 5,
     "metadata": {},
     "output_type": "execute_result"
    }
   ],
   "source": [
    "var1.dtype"
   ]
  },
  {
   "cell_type": "code",
   "execution_count": 6,
   "id": "c93ee213",
   "metadata": {},
   "outputs": [],
   "source": [
    "varA=[1,1.1,2]\n",
    "var2=np.array(varA)"
   ]
  },
  {
   "cell_type": "code",
   "execution_count": 7,
   "id": "2eefa611",
   "metadata": {},
   "outputs": [
    {
     "data": {
      "text/plain": [
       "array([1. , 1.1, 2. ])"
      ]
     },
     "execution_count": 7,
     "metadata": {},
     "output_type": "execute_result"
    }
   ],
   "source": [
    "var2"
   ]
  },
  {
   "cell_type": "code",
   "execution_count": 8,
   "id": "f296f835",
   "metadata": {},
   "outputs": [
    {
     "data": {
      "text/plain": [
       "dtype('float64')"
      ]
     },
     "execution_count": 8,
     "metadata": {},
     "output_type": "execute_result"
    }
   ],
   "source": [
    "var2.dtype"
   ]
  },
  {
   "cell_type": "code",
   "execution_count": 9,
   "id": "22a6ea38",
   "metadata": {},
   "outputs": [
    {
     "data": {
      "text/plain": [
       "(3,)"
      ]
     },
     "execution_count": 9,
     "metadata": {},
     "output_type": "execute_result"
    }
   ],
   "source": [
    "var2.shape"
   ]
  },
  {
   "cell_type": "code",
   "execution_count": 11,
   "id": "a90d738c",
   "metadata": {},
   "outputs": [],
   "source": [
    "var3=np.array([[1.5,2.5],[3.4]], dtype=object)"
   ]
  },
  {
   "cell_type": "code",
   "execution_count": 12,
   "id": "acad19bd",
   "metadata": {},
   "outputs": [
    {
     "data": {
      "text/plain": [
       "array([list([1.5, 2.5]), list([3.4])], dtype=object)"
      ]
     },
     "execution_count": 12,
     "metadata": {},
     "output_type": "execute_result"
    }
   ],
   "source": [
    "var3"
   ]
  },
  {
   "cell_type": "code",
   "execution_count": 13,
   "id": "1e88be15",
   "metadata": {},
   "outputs": [],
   "source": [
    "var3=np.array([[1.5,2.5],[3,4]], dtype=object)"
   ]
  },
  {
   "cell_type": "code",
   "execution_count": 14,
   "id": "3d54e583",
   "metadata": {},
   "outputs": [
    {
     "data": {
      "text/plain": [
       "array([[1.5, 2.5],\n",
       "       [3, 4]], dtype=object)"
      ]
     },
     "execution_count": 14,
     "metadata": {},
     "output_type": "execute_result"
    }
   ],
   "source": [
    "var3"
   ]
  },
  {
   "cell_type": "code",
   "execution_count": 15,
   "id": "d58e590f",
   "metadata": {},
   "outputs": [
    {
     "data": {
      "text/plain": [
       "(2, 2)"
      ]
     },
     "execution_count": 15,
     "metadata": {},
     "output_type": "execute_result"
    }
   ],
   "source": [
    "var3.shape"
   ]
  },
  {
   "cell_type": "code",
   "execution_count": 16,
   "id": "446775e5",
   "metadata": {},
   "outputs": [
    {
     "data": {
      "text/plain": [
       "array([1.5, 2.5], dtype=object)"
      ]
     },
     "execution_count": 16,
     "metadata": {},
     "output_type": "execute_result"
    }
   ],
   "source": [
    "var3[0]"
   ]
  },
  {
   "cell_type": "code",
   "execution_count": 18,
   "id": "811f1e31",
   "metadata": {},
   "outputs": [
    {
     "data": {
      "text/plain": [
       "1.5"
      ]
     },
     "execution_count": 18,
     "metadata": {},
     "output_type": "execute_result"
    }
   ],
   "source": [
    "var3[0,0]"
   ]
  },
  {
   "cell_type": "code",
   "execution_count": 19,
   "id": "6d0f9d26",
   "metadata": {},
   "outputs": [
    {
     "data": {
      "text/plain": [
       "4"
      ]
     },
     "execution_count": 19,
     "metadata": {},
     "output_type": "execute_result"
    }
   ],
   "source": [
    "var3[-1,-1]"
   ]
  },
  {
   "cell_type": "code",
   "execution_count": 20,
   "id": "af7063fa",
   "metadata": {},
   "outputs": [],
   "source": [
    "var3[-1,0]=\"Brian\""
   ]
  },
  {
   "cell_type": "code",
   "execution_count": 21,
   "id": "50d92b57",
   "metadata": {},
   "outputs": [
    {
     "data": {
      "text/plain": [
       "array([[1.5, 2.5],\n",
       "       ['Brian', 4]], dtype=object)"
      ]
     },
     "execution_count": 21,
     "metadata": {},
     "output_type": "execute_result"
    }
   ],
   "source": [
    "var3"
   ]
  },
  {
   "cell_type": "markdown",
   "id": "d6f6fea4",
   "metadata": {},
   "source": [
    "### Alokasi dan Random Array"
   ]
  },
  {
   "cell_type": "code",
   "execution_count": 22,
   "id": "a7f10c19",
   "metadata": {},
   "outputs": [],
   "source": [
    "varA=np.empty(3)"
   ]
  },
  {
   "cell_type": "code",
   "execution_count": 23,
   "id": "071b02f7",
   "metadata": {},
   "outputs": [
    {
     "data": {
      "text/plain": [
       "array([1. , 1.1, 2. ])"
      ]
     },
     "execution_count": 23,
     "metadata": {},
     "output_type": "execute_result"
    }
   ],
   "source": [
    "varA"
   ]
  },
  {
   "cell_type": "code",
   "execution_count": 24,
   "id": "7b0f1497",
   "metadata": {},
   "outputs": [],
   "source": [
    "varB=np.empty((3,2))"
   ]
  },
  {
   "cell_type": "code",
   "execution_count": 25,
   "id": "b2061092",
   "metadata": {},
   "outputs": [
    {
     "data": {
      "text/plain": [
       "array([[0., 0.],\n",
       "       [0., 0.],\n",
       "       [0., 0.]])"
      ]
     },
     "execution_count": 25,
     "metadata": {},
     "output_type": "execute_result"
    }
   ],
   "source": [
    "varB"
   ]
  },
  {
   "cell_type": "code",
   "execution_count": 26,
   "id": "a28a6405",
   "metadata": {},
   "outputs": [
    {
     "data": {
      "text/plain": [
       "0.005"
      ]
     },
     "execution_count": 26,
     "metadata": {},
     "output_type": "execute_result"
    }
   ],
   "source": [
    "5*0.001"
   ]
  },
  {
   "cell_type": "code",
   "execution_count": 27,
   "id": "746b1115",
   "metadata": {},
   "outputs": [
    {
     "data": {
      "text/plain": [
       "0.005"
      ]
     },
     "execution_count": 27,
     "metadata": {},
     "output_type": "execute_result"
    }
   ],
   "source": [
    "5*1e-3"
   ]
  },
  {
   "cell_type": "code",
   "execution_count": 30,
   "id": "d4a046fb",
   "metadata": {},
   "outputs": [],
   "source": [
    "#Hindari penggunaan .empty karna tiap kom berbeda hasil\n",
    "#Pakai zeros\n",
    "varB=np.zeros((3,2))"
   ]
  },
  {
   "cell_type": "code",
   "execution_count": 31,
   "id": "85852989",
   "metadata": {},
   "outputs": [
    {
     "data": {
      "text/plain": [
       "array([[0., 0.],\n",
       "       [0., 0.],\n",
       "       [0., 0.]])"
      ]
     },
     "execution_count": 31,
     "metadata": {},
     "output_type": "execute_result"
    }
   ],
   "source": [
    "varB"
   ]
  },
  {
   "cell_type": "code",
   "execution_count": 32,
   "id": "88709aca",
   "metadata": {},
   "outputs": [],
   "source": [
    "varC=np.empty((10,10))"
   ]
  },
  {
   "cell_type": "code",
   "execution_count": 33,
   "id": "092792f9",
   "metadata": {},
   "outputs": [
    {
     "data": {
      "text/plain": [
       "array([[            nan,             nan, 1.78629442e-285,\n",
       "        4.48114411e-299, 4.43289729e-287,             nan,\n",
       "        5.49683522e-298, 5.38286300e-295,             nan,\n",
       "        7.57280209e-307],\n",
       "       [4.30582753e-294, 1.78005909e-307,             nan,\n",
       "        3.38307886e-301, 3.43526457e-299, 2.18053323e-289,\n",
       "                    nan,             nan,             nan,\n",
       "        7.39421006e-288],\n",
       "       [1.29014290e-297, 2.00292127e-307, 2.30479211e-291,\n",
       "        2.54534645e-287,             nan, 3.30276584e-295,\n",
       "        1.82416773e-304, 1.04525469e-299, 3.36312977e-300,\n",
       "        6.72487310e-284],\n",
       "       [            nan, 7.18293551e-289,             nan,\n",
       "        1.20325087e-290,             nan, 1.86653295e-299,\n",
       "        5.84015141e-303, 7.73912979e-284, 1.18005355e-288,\n",
       "        2.29358867e-297],\n",
       "       [1.85255436e-305, 1.10843567e-301, 3.41497264e-286,\n",
       "        2.21656514e-287,             nan,             nan,\n",
       "        4.49216772e-290, 1.38528117e-288,             nan,\n",
       "                    nan],\n",
       "       [3.56097653e-306,             nan,             nan,\n",
       "        5.16516185e-306, 3.03365328e-294, 9.73626841e-309,\n",
       "                    nan, 5.28720664e-303,             nan,\n",
       "        7.41022608e-305],\n",
       "       [4.85551766e-293, 2.82008437e-293,             nan,\n",
       "        4.76332500e-292,             nan, 4.00833368e-291,\n",
       "                    nan, 6.95686561e-308, 2.36961466e-303,\n",
       "        2.95526399e-287],\n",
       "       [6.00964148e-307, 1.41353682e-283, 1.57674179e-285,\n",
       "        1.72233218e-293, 5.47007985e-304, 1.94120884e-299,\n",
       "        1.49322090e-298, 7.77021253e-299,             nan,\n",
       "        5.22708802e-300],\n",
       "       [5.13135122e-290,             nan, 2.10208603e-301,\n",
       "                    nan, 1.19457743e-297, 3.90042438e-283,\n",
       "        3.60220524e-293, 1.81686913e-292,             nan,\n",
       "        3.74044096e-306],\n",
       "       [1.43680082e-288, 1.12734376e-292,             nan,\n",
       "        5.26339608e-292, 2.35370432e-284,             nan,\n",
       "        1.05143958e-297, 4.33130926e-299,             nan,\n",
       "                    nan]])"
      ]
     },
     "execution_count": 33,
     "metadata": {},
     "output_type": "execute_result"
    }
   ],
   "source": [
    "varC"
   ]
  },
  {
   "cell_type": "code",
   "execution_count": 34,
   "id": "d8cc317e",
   "metadata": {},
   "outputs": [],
   "source": [
    "varD=np.ones((5,3))"
   ]
  },
  {
   "cell_type": "code",
   "execution_count": 35,
   "id": "5ccaa9ec",
   "metadata": {},
   "outputs": [
    {
     "data": {
      "text/plain": [
       "array([[1., 1., 1.],\n",
       "       [1., 1., 1.],\n",
       "       [1., 1., 1.],\n",
       "       [1., 1., 1.],\n",
       "       [1., 1., 1.]])"
      ]
     },
     "execution_count": 35,
     "metadata": {},
     "output_type": "execute_result"
    }
   ],
   "source": [
    "varD"
   ]
  },
  {
   "cell_type": "code",
   "execution_count": 36,
   "id": "82b8fa92",
   "metadata": {},
   "outputs": [],
   "source": [
    "varE=np.arange(1,5)"
   ]
  },
  {
   "cell_type": "code",
   "execution_count": 37,
   "id": "9dc3df81",
   "metadata": {},
   "outputs": [
    {
     "data": {
      "text/plain": [
       "array([1, 2, 3, 4])"
      ]
     },
     "execution_count": 37,
     "metadata": {},
     "output_type": "execute_result"
    }
   ],
   "source": [
    "varE"
   ]
  },
  {
   "cell_type": "code",
   "execution_count": 38,
   "id": "1515695d",
   "metadata": {},
   "outputs": [
    {
     "data": {
      "text/plain": [
       "array([1, 3, 5, 7, 9])"
      ]
     },
     "execution_count": 38,
     "metadata": {},
     "output_type": "execute_result"
    }
   ],
   "source": [
    "np.arange(1,10,2)"
   ]
  },
  {
   "cell_type": "code",
   "execution_count": 39,
   "id": "e79d5c2a",
   "metadata": {},
   "outputs": [
    {
     "data": {
      "text/plain": [
       "array([1, 3, 5, 7, 9])"
      ]
     },
     "execution_count": 39,
     "metadata": {},
     "output_type": "execute_result"
    }
   ],
   "source": [
    "varMin=1\n",
    "varMax=10\n",
    "varDelta=2\n",
    "np.arange(varMin,varMax,varDelta)"
   ]
  },
  {
   "cell_type": "code",
   "execution_count": 40,
   "id": "321ee7cc",
   "metadata": {},
   "outputs": [
    {
     "data": {
      "text/plain": [
       "array([10,  8,  6,  4])"
      ]
     },
     "execution_count": 40,
     "metadata": {},
     "output_type": "execute_result"
    }
   ],
   "source": [
    "np.arange(10,2,-2)"
   ]
  },
  {
   "cell_type": "markdown",
   "id": "54a353ee",
   "metadata": {},
   "source": [
    "### Random Numpy"
   ]
  },
  {
   "cell_type": "code",
   "execution_count": 43,
   "id": "743c931a",
   "metadata": {},
   "outputs": [
    {
     "data": {
      "text/plain": [
       "array([0.97967255, 0.58099367, 0.59252269])"
      ]
     },
     "execution_count": 43,
     "metadata": {},
     "output_type": "execute_result"
    }
   ],
   "source": [
    "np.random.random(3)"
   ]
  },
  {
   "cell_type": "code",
   "execution_count": 44,
   "id": "256fc374",
   "metadata": {},
   "outputs": [
    {
     "data": {
      "text/plain": [
       "array([[0.78472299, 0.02943324],\n",
       "       [0.04384574, 0.02141813],\n",
       "       [0.98632982, 0.94105428]])"
      ]
     },
     "execution_count": 44,
     "metadata": {},
     "output_type": "execute_result"
    }
   ],
   "source": [
    "np.random.random((3,2))"
   ]
  },
  {
   "cell_type": "code",
   "execution_count": null,
   "id": "b4537b7e",
   "metadata": {},
   "outputs": [],
   "source": []
  }
 ],
 "metadata": {
  "kernelspec": {
   "display_name": "Python 3",
   "language": "python",
   "name": "python3"
  },
  "language_info": {
   "codemirror_mode": {
    "name": "ipython",
    "version": 3
   },
   "file_extension": ".py",
   "mimetype": "text/x-python",
   "name": "python",
   "nbconvert_exporter": "python",
   "pygments_lexer": "ipython3",
   "version": "3.8.8"
  }
 },
 "nbformat": 4,
 "nbformat_minor": 5
}
