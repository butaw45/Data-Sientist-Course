{
 "cells": [
  {
   "cell_type": "markdown",
   "id": "4167b423",
   "metadata": {},
   "source": [
    "# Basic Python 2\n",
    "\n",
    "## List"
   ]
  },
  {
   "cell_type": "code",
   "execution_count": 1,
   "id": "718039ef",
   "metadata": {},
   "outputs": [],
   "source": [
    "Nama_Reptil=[\"Buaya\",\"Aligator\",\"Ular\",\"Kadal\",\"Kura-kura\"]"
   ]
  },
  {
   "cell_type": "code",
   "execution_count": 2,
   "id": "77136735",
   "metadata": {},
   "outputs": [
    {
     "data": {
      "text/plain": [
       "['Buaya', 'Aligator', 'Ular', 'Kadal', 'Kura-kura']"
      ]
     },
     "execution_count": 2,
     "metadata": {},
     "output_type": "execute_result"
    }
   ],
   "source": [
    "Nama_Reptil"
   ]
  },
  {
   "cell_type": "code",
   "execution_count": 3,
   "id": "a67f76dc",
   "metadata": {},
   "outputs": [
    {
     "data": {
      "text/plain": [
       "list"
      ]
     },
     "execution_count": 3,
     "metadata": {},
     "output_type": "execute_result"
    }
   ],
   "source": [
    "type(Nama_Reptil)"
   ]
  },
  {
   "cell_type": "code",
   "execution_count": 4,
   "id": "9b72b433",
   "metadata": {},
   "outputs": [
    {
     "data": {
      "text/plain": [
       "5"
      ]
     },
     "execution_count": 4,
     "metadata": {},
     "output_type": "execute_result"
    }
   ],
   "source": [
    "len(Nama_Reptil)"
   ]
  },
  {
   "cell_type": "code",
   "execution_count": 5,
   "id": "3761e4cf",
   "metadata": {},
   "outputs": [
    {
     "name": "stdout",
     "output_type": "stream",
     "text": [
      "Buaya\n"
     ]
    }
   ],
   "source": [
    "print(Nama_Reptil[0])"
   ]
  },
  {
   "cell_type": "code",
   "execution_count": 6,
   "id": "0422ad18",
   "metadata": {},
   "outputs": [
    {
     "data": {
      "text/plain": [
       "'Aligator'"
      ]
     },
     "execution_count": 6,
     "metadata": {},
     "output_type": "execute_result"
    }
   ],
   "source": [
    "Nama_Reptil[1]"
   ]
  },
  {
   "cell_type": "code",
   "execution_count": 7,
   "id": "356c2bb7",
   "metadata": {},
   "outputs": [
    {
     "data": {
      "text/plain": [
       "'Ular'"
      ]
     },
     "execution_count": 7,
     "metadata": {},
     "output_type": "execute_result"
    }
   ],
   "source": [
    "Nama_Reptil[2]"
   ]
  },
  {
   "cell_type": "code",
   "execution_count": 8,
   "id": "01f882c2",
   "metadata": {},
   "outputs": [
    {
     "data": {
      "text/plain": [
       "'Kura-kura'"
      ]
     },
     "execution_count": 8,
     "metadata": {},
     "output_type": "execute_result"
    }
   ],
   "source": [
    "Nama_Reptil[4]"
   ]
  },
  {
   "cell_type": "code",
   "execution_count": 9,
   "id": "6e00189c",
   "metadata": {},
   "outputs": [
    {
     "ename": "IndexError",
     "evalue": "list index out of range",
     "output_type": "error",
     "traceback": [
      "\u001b[1;31m---------------------------------------------------------------------------\u001b[0m",
      "\u001b[1;31mIndexError\u001b[0m                                Traceback (most recent call last)",
      "\u001b[1;32m<ipython-input-9-9aaa93bbf9f3>\u001b[0m in \u001b[0;36m<module>\u001b[1;34m\u001b[0m\n\u001b[1;32m----> 1\u001b[1;33m \u001b[0mNama_Reptil\u001b[0m\u001b[1;33m[\u001b[0m\u001b[1;36m5\u001b[0m\u001b[1;33m]\u001b[0m\u001b[1;33m\u001b[0m\u001b[1;33m\u001b[0m\u001b[0m\n\u001b[0m",
      "\u001b[1;31mIndexError\u001b[0m: list index out of range"
     ]
    }
   ],
   "source": [
    "Nama_Reptil[5]"
   ]
  },
  {
   "cell_type": "markdown",
   "id": "be70e0ff",
   "metadata": {},
   "source": [
    "## Modifikasi-Hapus-Tambah"
   ]
  },
  {
   "cell_type": "code",
   "execution_count": 10,
   "id": "cd42516d",
   "metadata": {},
   "outputs": [],
   "source": [
    "Nama_Reptil[2]=\"Python\""
   ]
  },
  {
   "cell_type": "code",
   "execution_count": 11,
   "id": "a29fe717",
   "metadata": {},
   "outputs": [
    {
     "data": {
      "text/plain": [
       "['Buaya', 'Aligator', 'Python', 'Kadal', 'Kura-kura']"
      ]
     },
     "execution_count": 11,
     "metadata": {},
     "output_type": "execute_result"
    }
   ],
   "source": [
    "Nama_Reptil"
   ]
  },
  {
   "cell_type": "code",
   "execution_count": 12,
   "id": "d8ea6d8d",
   "metadata": {},
   "outputs": [],
   "source": [
    "Nama_Reptil.remove(Nama_Reptil[0])"
   ]
  },
  {
   "cell_type": "code",
   "execution_count": 13,
   "id": "f8825987",
   "metadata": {},
   "outputs": [
    {
     "data": {
      "text/plain": [
       "['Aligator', 'Python', 'Kadal', 'Kura-kura']"
      ]
     },
     "execution_count": 13,
     "metadata": {},
     "output_type": "execute_result"
    }
   ],
   "source": [
    "Nama_Reptil"
   ]
  },
  {
   "cell_type": "code",
   "execution_count": 14,
   "id": "f22dbd42",
   "metadata": {},
   "outputs": [],
   "source": [
    "Nama_Reptil.append(\"Penyu\")"
   ]
  },
  {
   "cell_type": "code",
   "execution_count": 15,
   "id": "c06e179b",
   "metadata": {},
   "outputs": [
    {
     "data": {
      "text/plain": [
       "['Aligator', 'Python', 'Kadal', 'Kura-kura', 'Penyu']"
      ]
     },
     "execution_count": 15,
     "metadata": {},
     "output_type": "execute_result"
    }
   ],
   "source": [
    "Nama_Reptil"
   ]
  },
  {
   "cell_type": "markdown",
   "id": "c733b5f4",
   "metadata": {},
   "source": [
    "## Tuple"
   ]
  },
  {
   "cell_type": "code",
   "execution_count": 16,
   "id": "feb667d2",
   "metadata": {},
   "outputs": [],
   "source": [
    "Nama_Reptil=(\"Buaya\",\"Aligator\",\"Ular\",\"Kadal\",\"Kura-kura\")"
   ]
  },
  {
   "cell_type": "code",
   "execution_count": 18,
   "id": "261d4ee0",
   "metadata": {},
   "outputs": [
    {
     "data": {
      "text/plain": [
       "tuple"
      ]
     },
     "execution_count": 18,
     "metadata": {},
     "output_type": "execute_result"
    }
   ],
   "source": [
    "type(Nama_Reptil)"
   ]
  },
  {
   "cell_type": "code",
   "execution_count": 19,
   "id": "e1f76b87",
   "metadata": {},
   "outputs": [
    {
     "data": {
      "text/plain": [
       "5"
      ]
     },
     "execution_count": 19,
     "metadata": {},
     "output_type": "execute_result"
    }
   ],
   "source": [
    "len(Nama_Reptil)"
   ]
  },
  {
   "cell_type": "code",
   "execution_count": 20,
   "id": "5e626be1",
   "metadata": {},
   "outputs": [
    {
     "name": "stdout",
     "output_type": "stream",
     "text": [
      "Buaya\n"
     ]
    }
   ],
   "source": [
    "print(Nama_Reptil[0])"
   ]
  },
  {
   "cell_type": "code",
   "execution_count": 21,
   "id": "10f317ab",
   "metadata": {},
   "outputs": [
    {
     "ename": "TypeError",
     "evalue": "'tuple' object does not support item assignment",
     "output_type": "error",
     "traceback": [
      "\u001b[1;31m---------------------------------------------------------------------------\u001b[0m",
      "\u001b[1;31mTypeError\u001b[0m                                 Traceback (most recent call last)",
      "\u001b[1;32m<ipython-input-21-11fe7806a970>\u001b[0m in \u001b[0;36m<module>\u001b[1;34m\u001b[0m\n\u001b[1;32m----> 1\u001b[1;33m \u001b[0mNama_Reptil\u001b[0m\u001b[1;33m[\u001b[0m\u001b[1;36m2\u001b[0m\u001b[1;33m]\u001b[0m\u001b[1;33m=\u001b[0m\u001b[1;34m\"Python\"\u001b[0m\u001b[1;33m\u001b[0m\u001b[1;33m\u001b[0m\u001b[0m\n\u001b[0m",
      "\u001b[1;31mTypeError\u001b[0m: 'tuple' object does not support item assignment"
     ]
    }
   ],
   "source": [
    "Nama_Reptil[2]=\"Python\""
   ]
  },
  {
   "cell_type": "markdown",
   "id": "85c5c0d8",
   "metadata": {},
   "source": [
    "## Dictionary"
   ]
  },
  {
   "cell_type": "code",
   "execution_count": 22,
   "id": "6f50e039",
   "metadata": {},
   "outputs": [],
   "source": [
    "Hewan={\"Reptil\":[\"Buaya\",\"Aligator\",\"Ular\",\"Kadal\",\"Kura-kura\"],\n",
    "      \"Mamalia\":[\"Kangguru\",\"Gajah\",\"Sapi\",\"Baboon\",\"Kelinci\"]}"
   ]
  },
  {
   "cell_type": "code",
   "execution_count": 23,
   "id": "8dc43dfc",
   "metadata": {},
   "outputs": [
    {
     "data": {
      "text/plain": [
       "dict"
      ]
     },
     "execution_count": 23,
     "metadata": {},
     "output_type": "execute_result"
    }
   ],
   "source": [
    "#Type\n",
    "type(Hewan)"
   ]
  },
  {
   "cell_type": "code",
   "execution_count": 25,
   "id": "ed8a0d1c",
   "metadata": {},
   "outputs": [
    {
     "data": {
      "text/plain": [
       "2"
      ]
     },
     "execution_count": 25,
     "metadata": {},
     "output_type": "execute_result"
    }
   ],
   "source": [
    "#Panjang\n",
    "len(Hewan)"
   ]
  },
  {
   "cell_type": "code",
   "execution_count": 27,
   "id": "fa2ede52",
   "metadata": {},
   "outputs": [
    {
     "data": {
      "text/plain": [
       "5"
      ]
     },
     "execution_count": 27,
     "metadata": {},
     "output_type": "execute_result"
    }
   ],
   "source": [
    "#Panjang Hewan Reptil\n",
    "len(Hewan[\"Reptil\"])"
   ]
  },
  {
   "cell_type": "code",
   "execution_count": 28,
   "id": "2161904f",
   "metadata": {},
   "outputs": [
    {
     "data": {
      "text/plain": [
       "5"
      ]
     },
     "execution_count": 28,
     "metadata": {},
     "output_type": "execute_result"
    }
   ],
   "source": [
    "#Panjang Hewan Mamalia\n",
    "len(Hewan[\"Mamalia\"])"
   ]
  },
  {
   "cell_type": "code",
   "execution_count": 29,
   "id": "92128268",
   "metadata": {},
   "outputs": [
    {
     "data": {
      "text/plain": [
       "'Ular'"
      ]
     },
     "execution_count": 29,
     "metadata": {},
     "output_type": "execute_result"
    }
   ],
   "source": [
    "Hewan['Reptil'][2]"
   ]
  },
  {
   "cell_type": "code",
   "execution_count": 30,
   "id": "31636672",
   "metadata": {},
   "outputs": [
    {
     "data": {
      "text/plain": [
       "'Baboon'"
      ]
     },
     "execution_count": 30,
     "metadata": {},
     "output_type": "execute_result"
    }
   ],
   "source": [
    "Hewan['Mamalia'][3]"
   ]
  },
  {
   "cell_type": "markdown",
   "id": "ca04d667",
   "metadata": {},
   "source": [
    "## Modifikasi-Hapus-Tambah"
   ]
  },
  {
   "cell_type": "code",
   "execution_count": 31,
   "id": "9da744b7",
   "metadata": {},
   "outputs": [],
   "source": [
    "Hewan['Reptil'][2]=\"Python\""
   ]
  },
  {
   "cell_type": "code",
   "execution_count": 32,
   "id": "be39e37d",
   "metadata": {},
   "outputs": [
    {
     "data": {
      "text/plain": [
       "['Buaya', 'Aligator', 'Python', 'Kadal', 'Kura-kura']"
      ]
     },
     "execution_count": 32,
     "metadata": {},
     "output_type": "execute_result"
    }
   ],
   "source": [
    "Hewan[\"Reptil\"]"
   ]
  },
  {
   "cell_type": "code",
   "execution_count": 33,
   "id": "8e7fe64f",
   "metadata": {},
   "outputs": [
    {
     "data": {
      "text/plain": [
       "{'Reptil': ['Buaya', 'Aligator', 'Python', 'Kadal', 'Kura-kura'],\n",
       " 'Mamalia': ['Kangguru', 'Gajah', 'Sapi', 'Baboon', 'Kelinci']}"
      ]
     },
     "execution_count": 33,
     "metadata": {},
     "output_type": "execute_result"
    }
   ],
   "source": [
    "Hewan"
   ]
  },
  {
   "cell_type": "code",
   "execution_count": 40,
   "id": "d3cdc8e2",
   "metadata": {},
   "outputs": [],
   "source": [
    "Hewan['Mamalia'].remove(Hewan['Mamalia'][0])"
   ]
  },
  {
   "cell_type": "code",
   "execution_count": 41,
   "id": "a9a3feeb",
   "metadata": {},
   "outputs": [
    {
     "data": {
      "text/plain": [
       "{'Reptil': ['Buaya', 'Aligator', 'Python', 'Kadal', 'Kura-kura'],\n",
       " 'Mamalia': ['Sapi', 'Baboon', 'Kelinci'],\n",
       " 'Unggas': 'Ayam'}"
      ]
     },
     "execution_count": 41,
     "metadata": {},
     "output_type": "execute_result"
    }
   ],
   "source": [
    "Hewan"
   ]
  },
  {
   "cell_type": "code",
   "execution_count": 37,
   "id": "6762f3d0",
   "metadata": {},
   "outputs": [
    {
     "data": {
      "text/plain": [
       "4"
      ]
     },
     "execution_count": 37,
     "metadata": {},
     "output_type": "execute_result"
    }
   ],
   "source": [
    "len(Hewan['Mamalia'])"
   ]
  },
  {
   "cell_type": "code",
   "execution_count": 38,
   "id": "0d73b993",
   "metadata": {},
   "outputs": [],
   "source": [
    "Hewan['Unggas']=\"Ayam\""
   ]
  },
  {
   "cell_type": "code",
   "execution_count": 39,
   "id": "b05a2485",
   "metadata": {},
   "outputs": [
    {
     "data": {
      "text/plain": [
       "{'Reptil': ['Buaya', 'Aligator', 'Python', 'Kadal', 'Kura-kura'],\n",
       " 'Mamalia': ['Gajah', 'Sapi', 'Baboon', 'Kelinci'],\n",
       " 'Unggas': 'Ayam'}"
      ]
     },
     "execution_count": 39,
     "metadata": {},
     "output_type": "execute_result"
    }
   ],
   "source": [
    "Hewan"
   ]
  },
  {
   "cell_type": "code",
   "execution_count": null,
   "id": "0ab1f747",
   "metadata": {},
   "outputs": [],
   "source": []
  }
 ],
 "metadata": {
  "kernelspec": {
   "display_name": "Python 3",
   "language": "python",
   "name": "python3"
  },
  "language_info": {
   "codemirror_mode": {
    "name": "ipython",
    "version": 3
   },
   "file_extension": ".py",
   "mimetype": "text/x-python",
   "name": "python",
   "nbconvert_exporter": "python",
   "pygments_lexer": "ipython3",
   "version": "3.8.8"
  }
 },
 "nbformat": 4,
 "nbformat_minor": 5
}
