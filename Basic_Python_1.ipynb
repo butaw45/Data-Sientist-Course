{
 "cells": [
  {
   "cell_type": "markdown",
   "id": "8f914b15",
   "metadata": {},
   "source": [
    "# Baris Python 1"
   ]
  },
  {
   "cell_type": "markdown",
   "id": "db604536",
   "metadata": {},
   "source": [
    "## Variabel"
   ]
  },
  {
   "cell_type": "code",
   "execution_count": 1,
   "id": "baaa534b",
   "metadata": {},
   "outputs": [],
   "source": [
    "Text=\"Hola\"\n",
    "Bulat=6\n",
    "Pecah=5.5\n",
    "Multi=[4,5,\"Brian\"]"
   ]
  },
  {
   "cell_type": "code",
   "execution_count": 2,
   "id": "1d674d9d",
   "metadata": {},
   "outputs": [
    {
     "name": "stdout",
     "output_type": "stream",
     "text": [
      "Hola\n"
     ]
    }
   ],
   "source": [
    "print(Text)"
   ]
  },
  {
   "cell_type": "code",
   "execution_count": 3,
   "id": "a579d710",
   "metadata": {},
   "outputs": [
    {
     "name": "stdout",
     "output_type": "stream",
     "text": [
      "6\n"
     ]
    }
   ],
   "source": [
    "print(Bulat)"
   ]
  },
  {
   "cell_type": "code",
   "execution_count": 4,
   "id": "f1bbdfa6",
   "metadata": {},
   "outputs": [
    {
     "name": "stdout",
     "output_type": "stream",
     "text": [
      "5.5\n"
     ]
    }
   ],
   "source": [
    "print(Pecah)"
   ]
  },
  {
   "cell_type": "code",
   "execution_count": 5,
   "id": "2894488d",
   "metadata": {},
   "outputs": [
    {
     "name": "stdout",
     "output_type": "stream",
     "text": [
      "[4, 5, 'Brian']\n"
     ]
    }
   ],
   "source": [
    "print(Multi)"
   ]
  },
  {
   "cell_type": "code",
   "execution_count": 6,
   "id": "0174bdcd",
   "metadata": {},
   "outputs": [
    {
     "name": "stdout",
     "output_type": "stream",
     "text": [
      "Hola Brian\n"
     ]
    }
   ],
   "source": [
    "Nama=\"Brian\"\n",
    "print(Text+\" \"+Nama)"
   ]
  },
  {
   "cell_type": "code",
   "execution_count": 7,
   "id": "0f959f19",
   "metadata": {},
   "outputs": [
    {
     "name": "stdout",
     "output_type": "stream",
     "text": [
      "Hola, Selamat Datang Brian.\n"
     ]
    }
   ],
   "source": [
    "print(\"{}, Selamat Datang {}.\".format(Text,Nama))"
   ]
  },
  {
   "cell_type": "markdown",
   "id": "e3150207",
   "metadata": {},
   "source": [
    "### Mengisi beberapa variabel datam satu baris"
   ]
  },
  {
   "cell_type": "code",
   "execution_count": 8,
   "id": "194345e9",
   "metadata": {},
   "outputs": [
    {
     "name": "stdout",
     "output_type": "stream",
     "text": [
      "5\n",
      "6\n",
      "Guru\n"
     ]
    }
   ],
   "source": [
    "var1,var2,var3=5,6,\"Guru\"\n",
    "print(var1)\n",
    "print(var2)\n",
    "print(var3)"
   ]
  },
  {
   "cell_type": "code",
   "execution_count": 9,
   "id": "449799bb",
   "metadata": {},
   "outputs": [
    {
     "name": "stdout",
     "output_type": "stream",
     "text": [
      "10\n",
      "10\n",
      "10\n"
     ]
    }
   ],
   "source": [
    "var1=var2=var3=10\n",
    "print(var1)\n",
    "print(var2)\n",
    "print(var3)"
   ]
  },
  {
   "cell_type": "markdown",
   "id": "ef11b32e",
   "metadata": {},
   "source": [
    "## Operator Aritmatika"
   ]
  },
  {
   "cell_type": "code",
   "execution_count": 10,
   "id": "a9173a60",
   "metadata": {},
   "outputs": [
    {
     "data": {
      "text/plain": [
       "15"
      ]
     },
     "execution_count": 10,
     "metadata": {},
     "output_type": "execute_result"
    }
   ],
   "source": [
    "5+10"
   ]
  },
  {
   "cell_type": "code",
   "execution_count": 11,
   "id": "0a9bd8ec",
   "metadata": {},
   "outputs": [
    {
     "name": "stdout",
     "output_type": "stream",
     "text": [
      "15\n"
     ]
    }
   ],
   "source": [
    "var1=5\n",
    "var2=10\n",
    "var_t=var1+var2\n",
    "print(var_t)"
   ]
  },
  {
   "cell_type": "code",
   "execution_count": 12,
   "id": "69ef59ce",
   "metadata": {},
   "outputs": [
    {
     "name": "stdout",
     "output_type": "stream",
     "text": [
      "-5\n"
     ]
    }
   ],
   "source": [
    "var1=5\n",
    "var2=10\n",
    "var_t=var1-var2\n",
    "print(var_t)"
   ]
  },
  {
   "cell_type": "code",
   "execution_count": 13,
   "id": "7035b139",
   "metadata": {},
   "outputs": [
    {
     "name": "stdout",
     "output_type": "stream",
     "text": [
      "8\n"
     ]
    }
   ],
   "source": [
    "var1=2\n",
    "var2=4\n",
    "var_t=var1*var2\n",
    "print(var_t)"
   ]
  },
  {
   "cell_type": "code",
   "execution_count": 14,
   "id": "a683122c",
   "metadata": {},
   "outputs": [
    {
     "name": "stdout",
     "output_type": "stream",
     "text": [
      "0.125\n"
     ]
    }
   ],
   "source": [
    "var1=1\n",
    "var2=8\n",
    "var_t=var1/var2\n",
    "print(var_t)"
   ]
  },
  {
   "cell_type": "code",
   "execution_count": 15,
   "id": "e5267abe",
   "metadata": {},
   "outputs": [
    {
     "name": "stdout",
     "output_type": "stream",
     "text": [
      "1\n"
     ]
    }
   ],
   "source": [
    "var1=10\n",
    "var2=3\n",
    "var_t=var1%var2\n",
    "print(var_t)"
   ]
  },
  {
   "cell_type": "code",
   "execution_count": 16,
   "id": "0ceec074",
   "metadata": {},
   "outputs": [
    {
     "name": "stdout",
     "output_type": "stream",
     "text": [
      "3\n"
     ]
    }
   ],
   "source": [
    "var1=10\n",
    "var2=3\n",
    "var_t=var1//var2\n",
    "print(var_t)"
   ]
  },
  {
   "cell_type": "code",
   "execution_count": 18,
   "id": "4a97eeed",
   "metadata": {},
   "outputs": [
    {
     "name": "stdout",
     "output_type": "stream",
     "text": [
      "8\n"
     ]
    }
   ],
   "source": [
    "var1=2\n",
    "var2=3\n",
    "var_t=var1**var2\n",
    "print(var_t)"
   ]
  },
  {
   "cell_type": "markdown",
   "id": "83777f98",
   "metadata": {},
   "source": [
    "### Update angka variabel dari operator"
   ]
  },
  {
   "cell_type": "code",
   "execution_count": 19,
   "id": "65577193",
   "metadata": {},
   "outputs": [
    {
     "name": "stdout",
     "output_type": "stream",
     "text": [
      "15\n"
     ]
    }
   ],
   "source": [
    "var1=5\n",
    "var1+=10\n",
    "print(var1)"
   ]
  },
  {
   "cell_type": "code",
   "execution_count": 20,
   "id": "c6af98db",
   "metadata": {},
   "outputs": [
    {
     "name": "stdout",
     "output_type": "stream",
     "text": [
      "5\n"
     ]
    }
   ],
   "source": [
    "var1=10\n",
    "var1-=5\n",
    "print(var1)"
   ]
  },
  {
   "cell_type": "code",
   "execution_count": 21,
   "id": "550ea3f7",
   "metadata": {},
   "outputs": [
    {
     "name": "stdout",
     "output_type": "stream",
     "text": [
      "6\n"
     ]
    }
   ],
   "source": [
    "var1=2\n",
    "var1*=3\n",
    "print(var1)"
   ]
  },
  {
   "cell_type": "code",
   "execution_count": 22,
   "id": "198b52c8",
   "metadata": {},
   "outputs": [
    {
     "name": "stdout",
     "output_type": "stream",
     "text": [
      "3.3333333333333335\n"
     ]
    }
   ],
   "source": [
    "var1=10\n",
    "var1/=3\n",
    "print(var1)"
   ]
  },
  {
   "cell_type": "code",
   "execution_count": 23,
   "id": "43e127ef",
   "metadata": {},
   "outputs": [
    {
     "name": "stdout",
     "output_type": "stream",
     "text": [
      "1\n"
     ]
    }
   ],
   "source": [
    "var1=3\n",
    "var1%=2\n",
    "print(var1)"
   ]
  },
  {
   "cell_type": "markdown",
   "id": "489c331c",
   "metadata": {},
   "source": [
    "## Operator Perbandingan"
   ]
  },
  {
   "cell_type": "code",
   "execution_count": 24,
   "id": "c4555f28",
   "metadata": {},
   "outputs": [
    {
     "name": "stdout",
     "output_type": "stream",
     "text": [
      "False\n"
     ]
    }
   ],
   "source": [
    "var1, var2 = 2, 3\n",
    "print(var1==var2)"
   ]
  },
  {
   "cell_type": "code",
   "execution_count": 25,
   "id": "303b92e8",
   "metadata": {},
   "outputs": [
    {
     "name": "stdout",
     "output_type": "stream",
     "text": [
      "True\n"
     ]
    }
   ],
   "source": [
    "print(2==2)"
   ]
  },
  {
   "cell_type": "code",
   "execution_count": 26,
   "id": "02bacc9c",
   "metadata": {},
   "outputs": [
    {
     "name": "stdout",
     "output_type": "stream",
     "text": [
      "True\n"
     ]
    }
   ],
   "source": [
    "var1, var2 =2,3\n",
    "print(var1!=var2)"
   ]
  },
  {
   "cell_type": "code",
   "execution_count": 27,
   "id": "f04881e2",
   "metadata": {},
   "outputs": [
    {
     "name": "stdout",
     "output_type": "stream",
     "text": [
      "False\n"
     ]
    }
   ],
   "source": [
    "var1 , var2 = 2,3\n",
    "print(var1>var2)"
   ]
  },
  {
   "cell_type": "code",
   "execution_count": 28,
   "id": "43df1d73",
   "metadata": {},
   "outputs": [
    {
     "name": "stdout",
     "output_type": "stream",
     "text": [
      "True\n"
     ]
    }
   ],
   "source": [
    "var1,var2 = 2,3\n",
    "print(var1<var2)"
   ]
  },
  {
   "cell_type": "code",
   "execution_count": 31,
   "id": "1102a83a",
   "metadata": {},
   "outputs": [
    {
     "name": "stdout",
     "output_type": "stream",
     "text": [
      "False\n"
     ]
    }
   ],
   "source": [
    "var1=var2=3\n",
    "print(var1<var2)"
   ]
  },
  {
   "cell_type": "code",
   "execution_count": 32,
   "id": "c6efaac3",
   "metadata": {},
   "outputs": [
    {
     "name": "stdout",
     "output_type": "stream",
     "text": [
      "True\n"
     ]
    }
   ],
   "source": [
    "print(var1<=var2)"
   ]
  },
  {
   "cell_type": "code",
   "execution_count": 33,
   "id": "dc2800af",
   "metadata": {},
   "outputs": [
    {
     "name": "stdout",
     "output_type": "stream",
     "text": [
      "True\n"
     ]
    }
   ],
   "source": [
    "print(var1>=var2)"
   ]
  },
  {
   "cell_type": "markdown",
   "id": "441257ac",
   "metadata": {},
   "source": [
    "## Operator Logika"
   ]
  },
  {
   "cell_type": "code",
   "execution_count": 1,
   "id": "9e427bec",
   "metadata": {},
   "outputs": [
    {
     "name": "stdout",
     "output_type": "stream",
     "text": [
      "False\n"
     ]
    }
   ],
   "source": [
    "var1=True\n",
    "var2=False\n",
    "var3=True\n",
    "print(True and False)"
   ]
  },
  {
   "cell_type": "code",
   "execution_count": 2,
   "id": "2578f526",
   "metadata": {},
   "outputs": [
    {
     "name": "stdout",
     "output_type": "stream",
     "text": [
      "False\n"
     ]
    }
   ],
   "source": [
    "print(var1 and var2)"
   ]
  },
  {
   "cell_type": "code",
   "execution_count": 3,
   "id": "1372a5d3",
   "metadata": {},
   "outputs": [
    {
     "name": "stdout",
     "output_type": "stream",
     "text": [
      "True\n"
     ]
    }
   ],
   "source": [
    "print(var1 and var3)"
   ]
  },
  {
   "cell_type": "code",
   "execution_count": 4,
   "id": "ca006b68",
   "metadata": {},
   "outputs": [
    {
     "name": "stdout",
     "output_type": "stream",
     "text": [
      "True\n"
     ]
    }
   ],
   "source": [
    "print(var1 or var2)"
   ]
  },
  {
   "cell_type": "code",
   "execution_count": 5,
   "id": "5f8d7de5",
   "metadata": {},
   "outputs": [
    {
     "name": "stdout",
     "output_type": "stream",
     "text": [
      "True\n"
     ]
    }
   ],
   "source": [
    "print(var1 or var3)"
   ]
  },
  {
   "cell_type": "code",
   "execution_count": 6,
   "id": "a76e01f6",
   "metadata": {},
   "outputs": [
    {
     "name": "stdout",
     "output_type": "stream",
     "text": [
      "False\n"
     ]
    }
   ],
   "source": [
    "print(var2 or var2)"
   ]
  },
  {
   "cell_type": "code",
   "execution_count": 7,
   "id": "aae7bc39",
   "metadata": {},
   "outputs": [
    {
     "name": "stdout",
     "output_type": "stream",
     "text": [
      "True\n"
     ]
    }
   ],
   "source": [
    "print(var1)"
   ]
  },
  {
   "cell_type": "code",
   "execution_count": 8,
   "id": "05da5858",
   "metadata": {},
   "outputs": [
    {
     "name": "stdout",
     "output_type": "stream",
     "text": [
      "False\n"
     ]
    }
   ],
   "source": [
    "print(not var1)"
   ]
  },
  {
   "cell_type": "markdown",
   "id": "7afa0a39",
   "metadata": {},
   "source": [
    "## Type data dan konversi"
   ]
  },
  {
   "cell_type": "code",
   "execution_count": 11,
   "id": "d7c80f30",
   "metadata": {},
   "outputs": [],
   "source": [
    "Text=\"Hola\"\n",
    "Bulat=6\n",
    "Pecah=5.5\n",
    "Multi=[4,5,\"Brian\"]"
   ]
  },
  {
   "cell_type": "code",
   "execution_count": 10,
   "id": "12230bb6",
   "metadata": {},
   "outputs": [
    {
     "data": {
      "text/plain": [
       "str"
      ]
     },
     "execution_count": 10,
     "metadata": {},
     "output_type": "execute_result"
    }
   ],
   "source": [
    "type(Text)"
   ]
  },
  {
   "cell_type": "code",
   "execution_count": 12,
   "id": "7d445690",
   "metadata": {},
   "outputs": [],
   "source": [
    "Nama=\"Brian\""
   ]
  },
  {
   "cell_type": "code",
   "execution_count": 13,
   "id": "577d3236",
   "metadata": {},
   "outputs": [
    {
     "data": {
      "text/plain": [
       "str"
      ]
     },
     "execution_count": 13,
     "metadata": {},
     "output_type": "execute_result"
    }
   ],
   "source": [
    "type(Nama)"
   ]
  },
  {
   "cell_type": "code",
   "execution_count": 14,
   "id": "b4052ac5",
   "metadata": {},
   "outputs": [
    {
     "data": {
      "text/plain": [
       "int"
      ]
     },
     "execution_count": 14,
     "metadata": {},
     "output_type": "execute_result"
    }
   ],
   "source": [
    "type(Bulat)"
   ]
  },
  {
   "cell_type": "code",
   "execution_count": 15,
   "id": "ff5a7f7f",
   "metadata": {},
   "outputs": [
    {
     "data": {
      "text/plain": [
       "float"
      ]
     },
     "execution_count": 15,
     "metadata": {},
     "output_type": "execute_result"
    }
   ],
   "source": [
    "type(Pecah)"
   ]
  },
  {
   "cell_type": "code",
   "execution_count": 16,
   "id": "bdcb49f9",
   "metadata": {},
   "outputs": [
    {
     "data": {
      "text/plain": [
       "list"
      ]
     },
     "execution_count": 16,
     "metadata": {},
     "output_type": "execute_result"
    }
   ],
   "source": [
    "type(Multi)"
   ]
  },
  {
   "cell_type": "code",
   "execution_count": 17,
   "id": "5337dbca",
   "metadata": {},
   "outputs": [
    {
     "data": {
      "text/plain": [
       "5"
      ]
     },
     "execution_count": 17,
     "metadata": {},
     "output_type": "execute_result"
    }
   ],
   "source": [
    "int(Pecah)"
   ]
  },
  {
   "cell_type": "code",
   "execution_count": 18,
   "id": "23d161b4",
   "metadata": {},
   "outputs": [
    {
     "data": {
      "text/plain": [
       "5.5"
      ]
     },
     "execution_count": 18,
     "metadata": {},
     "output_type": "execute_result"
    }
   ],
   "source": [
    "Pecah"
   ]
  },
  {
   "cell_type": "code",
   "execution_count": 19,
   "id": "19db1a02",
   "metadata": {},
   "outputs": [
    {
     "name": "stdout",
     "output_type": "stream",
     "text": [
      "Hola 5.5\n"
     ]
    }
   ],
   "source": [
    "print(Text+\" \"+str(Pecah))"
   ]
  },
  {
   "cell_type": "code",
   "execution_count": null,
   "id": "791e41c1",
   "metadata": {},
   "outputs": [],
   "source": []
  }
 ],
 "metadata": {
  "kernelspec": {
   "display_name": "Python 3",
   "language": "python",
   "name": "python3"
  },
  "language_info": {
   "codemirror_mode": {
    "name": "ipython",
    "version": 3
   },
   "file_extension": ".py",
   "mimetype": "text/x-python",
   "name": "python",
   "nbconvert_exporter": "python",
   "pygments_lexer": "ipython3",
   "version": "3.8.8"
  }
 },
 "nbformat": 4,
 "nbformat_minor": 5
}
