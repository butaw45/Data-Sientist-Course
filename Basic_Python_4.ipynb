{
 "cells": [
  {
   "cell_type": "markdown",
   "id": "a2e556e2",
   "metadata": {},
   "source": [
    "# Basic Python 4"
   ]
  },
  {
   "cell_type": "markdown",
   "id": "64bc0d6a",
   "metadata": {},
   "source": [
    "## Fungsi\n",
    "\n",
    "$$f(x)=x+3$$"
   ]
  },
  {
   "cell_type": "code",
   "execution_count": 1,
   "id": "4b2e6ed0",
   "metadata": {},
   "outputs": [],
   "source": [
    "def f(x): \n",
    "    print(x+3)"
   ]
  },
  {
   "cell_type": "code",
   "execution_count": 2,
   "id": "1c6d6518",
   "metadata": {},
   "outputs": [
    {
     "name": "stdout",
     "output_type": "stream",
     "text": [
      "6\n"
     ]
    }
   ],
   "source": [
    "f(3)"
   ]
  },
  {
   "cell_type": "code",
   "execution_count": 3,
   "id": "643662f1",
   "metadata": {},
   "outputs": [
    {
     "name": "stdout",
     "output_type": "stream",
     "text": [
      "15\n"
     ]
    }
   ],
   "source": [
    "f(12)"
   ]
  },
  {
   "cell_type": "code",
   "execution_count": 4,
   "id": "18d2b55e",
   "metadata": {},
   "outputs": [
    {
     "name": "stdout",
     "output_type": "stream",
     "text": [
      "6\n"
     ]
    }
   ],
   "source": [
    "y=f(3)"
   ]
  },
  {
   "cell_type": "code",
   "execution_count": 5,
   "id": "67c0e889",
   "metadata": {},
   "outputs": [
    {
     "name": "stdout",
     "output_type": "stream",
     "text": [
      "None\n"
     ]
    }
   ],
   "source": [
    "print(y)"
   ]
  },
  {
   "cell_type": "code",
   "execution_count": 54,
   "id": "121ac4b8",
   "metadata": {},
   "outputs": [],
   "source": [
    "def f(x): \n",
    "    return(x+9)"
   ]
  },
  {
   "cell_type": "code",
   "execution_count": 55,
   "id": "6c5823c2",
   "metadata": {},
   "outputs": [
    {
     "name": "stdout",
     "output_type": "stream",
     "text": [
      "11\n"
     ]
    }
   ],
   "source": [
    "y=f(2)\n",
    "print(y)"
   ]
  },
  {
   "cell_type": "code",
   "execution_count": 8,
   "id": "15ea34e0",
   "metadata": {},
   "outputs": [],
   "source": [
    "def kecepatan(jarak,waktu):\n",
    "    spd=jarak/waktu\n",
    "    return spd"
   ]
  },
  {
   "cell_type": "code",
   "execution_count": 9,
   "id": "0c5e153e",
   "metadata": {},
   "outputs": [],
   "source": [
    "panjang=10\n",
    "durasi=5\n",
    "kec=kecepatan(panjang,durasi)"
   ]
  },
  {
   "cell_type": "code",
   "execution_count": 10,
   "id": "a3348eea",
   "metadata": {},
   "outputs": [
    {
     "name": "stdout",
     "output_type": "stream",
     "text": [
      "2.0\n"
     ]
    }
   ],
   "source": [
    "print(kec)"
   ]
  },
  {
   "cell_type": "code",
   "execution_count": 11,
   "id": "6cbcaabd",
   "metadata": {},
   "outputs": [
    {
     "data": {
      "text/plain": [
       "2.5"
      ]
     },
     "execution_count": 11,
     "metadata": {},
     "output_type": "execute_result"
    }
   ],
   "source": [
    "kecepatan(10,4)"
   ]
  },
  {
   "cell_type": "code",
   "execution_count": 12,
   "id": "efa00bf5",
   "metadata": {},
   "outputs": [
    {
     "data": {
      "text/plain": [
       "2.0"
      ]
     },
     "execution_count": 12,
     "metadata": {},
     "output_type": "execute_result"
    }
   ],
   "source": [
    "kecepatan(jarak=10,waktu=5)"
   ]
  },
  {
   "cell_type": "markdown",
   "id": "894b1001",
   "metadata": {},
   "source": [
    "## Fungsi Default"
   ]
  },
  {
   "cell_type": "markdown",
   "id": "b02fa764",
   "metadata": {},
   "source": [
    "### Luas Bola\n",
    "$$L=4\\pi r^2$$"
   ]
  },
  {
   "cell_type": "code",
   "execution_count": 18,
   "id": "9ec62b73",
   "metadata": {},
   "outputs": [],
   "source": [
    "def luas_bola(r,pi=3.14):\n",
    "    return 4*pi*r**2"
   ]
  },
  {
   "cell_type": "code",
   "execution_count": 19,
   "id": "02e5f564",
   "metadata": {},
   "outputs": [
    {
     "data": {
      "text/plain": [
       "314.0"
      ]
     },
     "execution_count": 19,
     "metadata": {},
     "output_type": "execute_result"
    }
   ],
   "source": [
    "luas_bola(5)"
   ]
  },
  {
   "cell_type": "code",
   "execution_count": 20,
   "id": "ded7325b",
   "metadata": {},
   "outputs": [],
   "source": [
    "L=luas_bola(10,pi=22/7)"
   ]
  },
  {
   "cell_type": "code",
   "execution_count": 21,
   "id": "cebb54d0",
   "metadata": {},
   "outputs": [
    {
     "name": "stdout",
     "output_type": "stream",
     "text": [
      "1257.142857142857\n"
     ]
    }
   ],
   "source": [
    "print(L)"
   ]
  },
  {
   "cell_type": "code",
   "execution_count": 22,
   "id": "4820f7bd",
   "metadata": {},
   "outputs": [],
   "source": [
    "L1=luas_bola(10)"
   ]
  },
  {
   "cell_type": "code",
   "execution_count": 23,
   "id": "e01dc896",
   "metadata": {},
   "outputs": [
    {
     "name": "stdout",
     "output_type": "stream",
     "text": [
      "1256.0\n"
     ]
    }
   ],
   "source": [
    "print(L1)"
   ]
  },
  {
   "cell_type": "code",
   "execution_count": 30,
   "id": "bef6c44a",
   "metadata": {},
   "outputs": [],
   "source": [
    "def peserta(Nama,Sekolah=\"SMK Kartel\"):\n",
    "    print(\"Selamat datang \"+Nama+\" Di \"+Sekolah)"
   ]
  },
  {
   "cell_type": "code",
   "execution_count": 31,
   "id": "0933c29f",
   "metadata": {},
   "outputs": [
    {
     "name": "stdout",
     "output_type": "stream",
     "text": [
      "Selamat datang Brian Di SMK Kartel\n"
     ]
    }
   ],
   "source": [
    "peserta(\"Brian\")"
   ]
  },
  {
   "cell_type": "code",
   "execution_count": 32,
   "id": "f79f738e",
   "metadata": {},
   "outputs": [
    {
     "name": "stdout",
     "output_type": "stream",
     "text": [
      "Selamat datang Mukti Di SMA Tokai\n"
     ]
    }
   ],
   "source": [
    "peserta(\"Mukti\",\"SMA Tokai\")"
   ]
  },
  {
   "cell_type": "markdown",
   "id": "c40d677b",
   "metadata": {},
   "source": [
    "## Fungsi Lambda"
   ]
  },
  {
   "cell_type": "code",
   "execution_count": 47,
   "id": "aee3493f",
   "metadata": {},
   "outputs": [
    {
     "data": {
      "text/plain": [
       "<function __main__.<lambda>(r)>"
      ]
     },
     "execution_count": 47,
     "metadata": {},
     "output_type": "execute_result"
    }
   ],
   "source": [
    "lambda r: lambda r:4*3.14*r**2"
   ]
  },
  {
   "cell_type": "code",
   "execution_count": 48,
   "id": "8288ab7e",
   "metadata": {},
   "outputs": [],
   "source": [
    "fungsi1=lambda r:4*3.14*r**2"
   ]
  },
  {
   "cell_type": "code",
   "execution_count": 49,
   "id": "202e6372",
   "metadata": {},
   "outputs": [
    {
     "data": {
      "text/plain": [
       "314.0"
      ]
     },
     "execution_count": 49,
     "metadata": {},
     "output_type": "execute_result"
    }
   ],
   "source": [
    "fungsi1(5)"
   ]
  },
  {
   "cell_type": "code",
   "execution_count": 50,
   "id": "e2b8787d",
   "metadata": {},
   "outputs": [
    {
     "data": {
      "text/plain": [
       "314.0"
      ]
     },
     "execution_count": 50,
     "metadata": {},
     "output_type": "execute_result"
    }
   ],
   "source": [
    "(lambda r:4*3.14*r**2)(5)"
   ]
  },
  {
   "cell_type": "code",
   "execution_count": 52,
   "id": "6fe036af",
   "metadata": {},
   "outputs": [
    {
     "data": {
      "text/plain": [
       "314.0"
      ]
     },
     "execution_count": 52,
     "metadata": {},
     "output_type": "execute_result"
    }
   ],
   "source": [
    "(lambda r,pi:4*pi*r**2)(5,3.14)"
   ]
  },
  {
   "cell_type": "code",
   "execution_count": 53,
   "id": "e5693edf",
   "metadata": {},
   "outputs": [
    {
     "data": {
      "text/plain": [
       "314.2857142857143"
      ]
     },
     "execution_count": 53,
     "metadata": {},
     "output_type": "execute_result"
    }
   ],
   "source": [
    "(lambda r,pi:4*pi*r**2)(5,22/7)"
   ]
  },
  {
   "cell_type": "code",
   "execution_count": null,
   "id": "99f9102c",
   "metadata": {},
   "outputs": [],
   "source": []
  }
 ],
 "metadata": {
  "kernelspec": {
   "display_name": "Python 3",
   "language": "python",
   "name": "python3"
  },
  "language_info": {
   "codemirror_mode": {
    "name": "ipython",
    "version": 3
   },
   "file_extension": ".py",
   "mimetype": "text/x-python",
   "name": "python",
   "nbconvert_exporter": "python",
   "pygments_lexer": "ipython3",
   "version": "3.8.8"
  }
 },
 "nbformat": 4,
 "nbformat_minor": 5
}
