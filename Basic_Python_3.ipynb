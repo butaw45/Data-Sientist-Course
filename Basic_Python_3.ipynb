{
 "cells": [
  {
   "cell_type": "markdown",
   "id": "6fb62b4b",
   "metadata": {},
   "source": [
    "# Basic Python 3"
   ]
  },
  {
   "cell_type": "markdown",
   "id": "22470c3d",
   "metadata": {},
   "source": [
    "## IF"
   ]
  },
  {
   "cell_type": "code",
   "execution_count": 5,
   "id": "bfea148b",
   "metadata": {},
   "outputs": [
    {
     "name": "stdout",
     "output_type": "stream",
     "text": [
      "Masukka Nilai=0\n",
      "Bilangan positif dengan nilai 0\n"
     ]
    }
   ],
   "source": [
    "var1=int(input(\"Masukka Nilai=\"))\n",
    "if var1>=0:\n",
    "    print(\"Bilangan positif dengan nilai\",var1)\n",
    "else:\n",
    "    print(\"Bilangan negatif dengan nilai\",var1)"
   ]
  },
  {
   "cell_type": "code",
   "execution_count": 8,
   "id": "b4028b12",
   "metadata": {},
   "outputs": [
    {
     "name": "stdout",
     "output_type": "stream",
     "text": [
      "Username (3-5 karakter)=br\n",
      "Kurang dari 3, panjang username 2\n"
     ]
    }
   ],
   "source": [
    "var2=str(input(\"Username (3-5 karakter) = \"))\n",
    "if len(var2)<3:\n",
    "    print(\"Kurang dari 3, panjang username = \",len(var2))\n",
    "elif len(var2)>=3 and len(var2)<=5:\n",
    "    print(\"Data telah dimasukan ke sistem\")\n",
    "else:\n",
    "    print(\"Panjang username berlebih, yaitu\",len(var2))"
   ]
  },
  {
   "cell_type": "code",
   "execution_count": null,
   "id": "da0859fa",
   "metadata": {},
   "outputs": [],
   "source": [
    "var3=str(input(\"Pilih Voucher A atau B = \"))\n",
    "if var3==\"A\":\n",
    "    var4=int(input(\"Masukkan Angka 1-3 = \"))\n",
    "    if var4 == 1:\n",
    "        print(var3+str(var4)+\"=Mobil\")\n",
    "    elif var4 == 2:\n",
    "        print(var3+str(var4)+\"=Motor\")\n",
    "    elif var4 == 3:\n",
    "        print(var3+str(var4)+\"=Sepeda\")\n",
    "    else:\n",
    "        print(\"Tidak diterima\")\n",
    "        \n",
    "elif var3==\"B\":\n",
    "    var4=int(input(\"Masukkan Angka 1-3 = \"))\n",
    "    if var4 == 1:\n",
    "        print(var3+str(var4)+\"=Mesin cuci\")\n",
    "    elif var4 == 2:\n",
    "        print(var3+str(var4)+\"=TV\")\n",
    "    elif var4 == 3:\n",
    "        print(var3+str(var4)+\"=Meja\")\n",
    "    else:\n",
    "        print(\"Tidak diterima\")"
   ]
  },
  {
   "cell_type": "markdown",
   "id": "d0ae3eb4",
   "metadata": {},
   "source": [
    "## While"
   ]
  },
  {
   "cell_type": "code",
   "execution_count": 14,
   "id": "6e31dcef",
   "metadata": {},
   "outputs": [
    {
     "name": "stdout",
     "output_type": "stream",
     "text": [
      "0\n",
      "1\n",
      "2\n",
      "3\n",
      "4\n"
     ]
    }
   ],
   "source": [
    "var1=0\n",
    "while var1<5:\n",
    "    print(var1)\n",
    "    var1+=1"
   ]
  },
  {
   "cell_type": "code",
   "execution_count": 15,
   "id": "b69218f6",
   "metadata": {},
   "outputs": [
    {
     "name": "stdout",
     "output_type": "stream",
     "text": [
      "0\n",
      "1\n",
      "2\n",
      "3\n",
      "4\n",
      "selesai\n"
     ]
    }
   ],
   "source": [
    "var2=0\n",
    "while True:\n",
    "    print(var2)\n",
    "    var2+=1\n",
    "    if var2==5:\n",
    "        break\n",
    "print(\"selesai\")"
   ]
  },
  {
   "cell_type": "code",
   "execution_count": 16,
   "id": "749051c6",
   "metadata": {},
   "outputs": [
    {
     "name": "stdout",
     "output_type": "stream",
     "text": [
      "4\n",
      "3\n",
      "2\n",
      "1\n"
     ]
    }
   ],
   "source": [
    "var3=4\n",
    "while var3>0:\n",
    "    print(var3)\n",
    "    var3-=1"
   ]
  },
  {
   "cell_type": "markdown",
   "id": "97a2d816",
   "metadata": {},
   "source": [
    "## For"
   ]
  },
  {
   "cell_type": "code",
   "execution_count": 17,
   "id": "eb78c98a",
   "metadata": {},
   "outputs": [
    {
     "name": "stdout",
     "output_type": "stream",
     "text": [
      "0\n",
      "1\n",
      "2\n",
      "3\n",
      "4\n"
     ]
    }
   ],
   "source": [
    "for i in range(0,5):\n",
    "    print(i)"
   ]
  },
  {
   "cell_type": "code",
   "execution_count": 18,
   "id": "823bc072",
   "metadata": {},
   "outputs": [
    {
     "name": "stdout",
     "output_type": "stream",
     "text": [
      "0\n",
      "1\n",
      "2\n",
      "3\n",
      "4\n",
      "5\n",
      "6\n",
      "7\n",
      "8\n",
      "9\n"
     ]
    }
   ],
   "source": [
    "for i in range(0,10):\n",
    "    print(i)"
   ]
  },
  {
   "cell_type": "code",
   "execution_count": 19,
   "id": "c2542029",
   "metadata": {},
   "outputs": [],
   "source": [
    "Nama_Reptil=[\"Buaya\",\"Aligator\",'Kura-kura','Ular']"
   ]
  },
  {
   "cell_type": "code",
   "execution_count": 20,
   "id": "6e8e5af7",
   "metadata": {},
   "outputs": [
    {
     "data": {
      "text/plain": [
       "'Buaya'"
      ]
     },
     "execution_count": 20,
     "metadata": {},
     "output_type": "execute_result"
    }
   ],
   "source": [
    "Nama_Reptil[0]"
   ]
  },
  {
   "cell_type": "code",
   "execution_count": 21,
   "id": "45f787c3",
   "metadata": {},
   "outputs": [
    {
     "name": "stdout",
     "output_type": "stream",
     "text": [
      "Buaya\n",
      "Aligator\n",
      "Kura-kura\n",
      "Ular\n"
     ]
    }
   ],
   "source": [
    "for i in range(0,len(Nama_Reptil)):\n",
    "    print(Nama_Reptil[i])"
   ]
  },
  {
   "cell_type": "code",
   "execution_count": 22,
   "id": "b8c37225",
   "metadata": {},
   "outputs": [
    {
     "name": "stdout",
     "output_type": "stream",
     "text": [
      "Buaya\n",
      "Aligator\n",
      "Kura-kura\n",
      "Ular\n"
     ]
    }
   ],
   "source": [
    "for NR in Nama_Reptil:\n",
    "    print(NR)"
   ]
  },
  {
   "cell_type": "code",
   "execution_count": 23,
   "id": "0b0511b2",
   "metadata": {},
   "outputs": [
    {
     "name": "stdout",
     "output_type": "stream",
     "text": [
      "B\n",
      "r\n",
      "i\n",
      "a\n",
      "n\n"
     ]
    }
   ],
   "source": [
    "for i in \"Brian\":\n",
    "    print(i)"
   ]
  },
  {
   "cell_type": "code",
   "execution_count": 24,
   "id": "b1fef07e",
   "metadata": {},
   "outputs": [
    {
     "name": "stdout",
     "output_type": "stream",
     "text": [
      "Masukan data ke-0=halo\n",
      "Masukan data ke-1=hola\n",
      "Masukan data ke-2=guten\n",
      "Masukan data ke-3=hai\n"
     ]
    }
   ],
   "source": [
    "for i in range(0,len(Nama_Reptil)):\n",
    "    Nama_Reptil[i]=str(input(\"Masukan data ke-\"+str(i)+\"=\"))"
   ]
  },
  {
   "cell_type": "code",
   "execution_count": 25,
   "id": "eeae980a",
   "metadata": {},
   "outputs": [
    {
     "data": {
      "text/plain": [
       "['halo', 'hola', 'guten', 'hai']"
      ]
     },
     "execution_count": 25,
     "metadata": {},
     "output_type": "execute_result"
    }
   ],
   "source": [
    "Nama_Reptil"
   ]
  },
  {
   "cell_type": "code",
   "execution_count": null,
   "id": "f4fc0f59",
   "metadata": {},
   "outputs": [],
   "source": []
  }
 ],
 "metadata": {
  "kernelspec": {
   "display_name": "Python 3",
   "language": "python",
   "name": "python3"
  },
  "language_info": {
   "codemirror_mode": {
    "name": "ipython",
    "version": 3
   },
   "file_extension": ".py",
   "mimetype": "text/x-python",
   "name": "python",
   "nbconvert_exporter": "python",
   "pygments_lexer": "ipython3",
   "version": "3.8.8"
  }
 },
 "nbformat": 4,
 "nbformat_minor": 5
}
